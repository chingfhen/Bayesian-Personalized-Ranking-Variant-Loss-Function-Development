{
 "cells": [
  {
   "cell_type": "markdown",
   "id": "f590d37f",
   "metadata": {},
   "source": [
    "# ABOUT:\n",
    "- This notebook explores a real-life user-purchase/user-interaction data from a shopee based seller"
   ]
  },
  {
   "cell_type": "code",
   "execution_count": 16,
   "id": "50dbe5ad",
   "metadata": {},
   "outputs": [],
   "source": [
    "import pandas as pd\n",
    "import os\n",
    "import seaborn as sb\n",
    "from numpy import log"
   ]
  },
  {
   "cell_type": "markdown",
   "id": "ae2e38e2",
   "metadata": {},
   "source": [
    "## read shopee data"
   ]
  },
  {
   "cell_type": "code",
   "execution_count": 2,
   "id": "7e9f5adf",
   "metadata": {},
   "outputs": [],
   "source": [
    "directory = r\"C:\\Users\\tanch\\Documents\\NTU\\NTU Year 4\\FYP - GNN\\data\\shopee-20221117T041452Z-001\\shopee\"\n",
    "os.chdir(directory)"
   ]
  },
  {
   "cell_type": "code",
   "execution_count": 4,
   "id": "50e08e76",
   "metadata": {},
   "outputs": [],
   "source": [
    "data = pd.DataFrame()\n",
    "usecols = ['Order ID', \"Ship Time\", \"Username (Buyer)\", \"Product Name\", \"Deal Price\", \"Quantity\", \"Voucher Code\", \"Username (Buyer)\", \"Zip Code\"]\n",
    "for file in os.listdir(directory):\n",
    "    if \"Order\" in file:\n",
    "        tmp = pd.read_excel(file, usecols=usecols)\n",
    "        data = pd.concat([data,tmp], axis = 0)\n",
    "data.drop_duplicates(inplace = True)"
   ]
  },
  {
   "cell_type": "code",
   "execution_count": 46,
   "id": "e3e15fcf",
   "metadata": {},
   "outputs": [
    {
     "data": {
      "text/html": [
       "<div>\n",
       "<style scoped>\n",
       "    .dataframe tbody tr th:only-of-type {\n",
       "        vertical-align: middle;\n",
       "    }\n",
       "\n",
       "    .dataframe tbody tr th {\n",
       "        vertical-align: top;\n",
       "    }\n",
       "\n",
       "    .dataframe thead th {\n",
       "        text-align: right;\n",
       "    }\n",
       "</style>\n",
       "<table border=\"1\" class=\"dataframe\">\n",
       "  <thead>\n",
       "    <tr style=\"text-align: right;\">\n",
       "      <th></th>\n",
       "      <th>Order ID</th>\n",
       "      <th>Ship Time</th>\n",
       "      <th>Product Name</th>\n",
       "      <th>Deal Price</th>\n",
       "      <th>Quantity</th>\n",
       "      <th>Voucher Code</th>\n",
       "      <th>Username (Buyer)</th>\n",
       "      <th>Zip Code</th>\n",
       "    </tr>\n",
       "  </thead>\n",
       "  <tbody>\n",
       "    <tr>\n",
       "      <th>0</th>\n",
       "      <td>210701QG5V2NT4</td>\n",
       "      <td>2021-07-02 16:45</td>\n",
       "      <td>1Pcs Self-heating Magnet Wrist Support Brace G...</td>\n",
       "      <td>9.0</td>\n",
       "      <td>1</td>\n",
       "      <td>NaN</td>\n",
       "      <td>superrockmen</td>\n",
       "      <td>310261</td>\n",
       "    </tr>\n",
       "    <tr>\n",
       "      <th>1</th>\n",
       "      <td>210701QG5V2NT4</td>\n",
       "      <td>2021-07-02 16:45</td>\n",
       "      <td>1Pcs Self-heating Magnet Wrist Support Brace G...</td>\n",
       "      <td>15.8</td>\n",
       "      <td>1</td>\n",
       "      <td>NaN</td>\n",
       "      <td>superrockmen</td>\n",
       "      <td>310261</td>\n",
       "    </tr>\n",
       "    <tr>\n",
       "      <th>2</th>\n",
       "      <td>210701QSRHFY5W</td>\n",
       "      <td>2021-07-02 16:45</td>\n",
       "      <td>Hot Magnetic Back Support Brace Belt Lumbar Lo...</td>\n",
       "      <td>15.8</td>\n",
       "      <td>1</td>\n",
       "      <td>CASHBACKAD6</td>\n",
       "      <td>iralia7801</td>\n",
       "      <td>734688</td>\n",
       "    </tr>\n",
       "    <tr>\n",
       "      <th>3</th>\n",
       "      <td>210701RCFJF50G</td>\n",
       "      <td>2021-07-02 16:42</td>\n",
       "      <td>1Pair Big Bone Orthopedic Bunion Correction Pe...</td>\n",
       "      <td>15.8</td>\n",
       "      <td>1</td>\n",
       "      <td>NaN</td>\n",
       "      <td>dynshmi</td>\n",
       "      <td>601219</td>\n",
       "    </tr>\n",
       "    <tr>\n",
       "      <th>4</th>\n",
       "      <td>210701RHSPS5TT</td>\n",
       "      <td>2021-07-02 16:45</td>\n",
       "      <td>1Pair Big Bone Orthopedic Bunion Correction Pe...</td>\n",
       "      <td>15.8</td>\n",
       "      <td>1</td>\n",
       "      <td>SPPNEWJUL</td>\n",
       "      <td>nancywom</td>\n",
       "      <td>163008</td>\n",
       "    </tr>\n",
       "  </tbody>\n",
       "</table>\n",
       "</div>"
      ],
      "text/plain": [
       "         Order ID         Ship Time  \\\n",
       "0  210701QG5V2NT4  2021-07-02 16:45   \n",
       "1  210701QG5V2NT4  2021-07-02 16:45   \n",
       "2  210701QSRHFY5W  2021-07-02 16:45   \n",
       "3  210701RCFJF50G  2021-07-02 16:42   \n",
       "4  210701RHSPS5TT  2021-07-02 16:45   \n",
       "\n",
       "                                        Product Name  Deal Price  Quantity  \\\n",
       "0  1Pcs Self-heating Magnet Wrist Support Brace G...         9.0         1   \n",
       "1  1Pcs Self-heating Magnet Wrist Support Brace G...        15.8         1   \n",
       "2  Hot Magnetic Back Support Brace Belt Lumbar Lo...        15.8         1   \n",
       "3  1Pair Big Bone Orthopedic Bunion Correction Pe...        15.8         1   \n",
       "4  1Pair Big Bone Orthopedic Bunion Correction Pe...        15.8         1   \n",
       "\n",
       "  Voucher Code Username (Buyer)  Zip Code  \n",
       "0          NaN     superrockmen    310261  \n",
       "1          NaN     superrockmen    310261  \n",
       "2  CASHBACKAD6       iralia7801    734688  \n",
       "3          NaN          dynshmi    601219  \n",
       "4    SPPNEWJUL         nancywom    163008  "
      ]
     },
     "execution_count": 46,
     "metadata": {},
     "output_type": "execute_result"
    }
   ],
   "source": [
    "data.head()"
   ]
  },
  {
   "cell_type": "markdown",
   "id": "1b641926",
   "metadata": {},
   "source": [
    "## Insight: \n",
    "- **most are cold start users**"
   ]
  },
  {
   "cell_type": "code",
   "execution_count": 44,
   "id": "81d7fd0d",
   "metadata": {},
   "outputs": [
    {
     "data": {
      "text/plain": [
       "[Text(0.5, 0, 'Number of Purchases by Users')]"
      ]
     },
     "execution_count": 44,
     "metadata": {},
     "output_type": "execute_result"
    },
    {
     "data": {
      "image/png": "[encoded data removed]",
      "text/plain": [
       "<Figure size 640x480 with 1 Axes>"
      ]
     },
     "metadata": {},
     "output_type": "display_data"
    }
   ],
   "source": [
    "p = sb.histplot(data['Username (Buyer)'].value_counts(), color = \"#DECDF5\", kde = False)\n",
    "p.set(xlabel = \"Number of Purchases by Users\")"
   ]
  },
  {
   "cell_type": "code",
   "execution_count": 39,
   "id": "ef163351",
   "metadata": {
    "scrolled": true
   },
   "outputs": [
    {
     "data": {
      "text/html": [
       "<div>\n",
       "<style scoped>\n",
       "    .dataframe tbody tr th:only-of-type {\n",
       "        vertical-align: middle;\n",
       "    }\n",
       "\n",
       "    .dataframe tbody tr th {\n",
       "        vertical-align: top;\n",
       "    }\n",
       "\n",
       "    .dataframe thead th {\n",
       "        text-align: right;\n",
       "    }\n",
       "</style>\n",
       "<table border=\"1\" class=\"dataframe\">\n",
       "  <thead>\n",
       "    <tr style=\"text-align: right;\">\n",
       "      <th></th>\n",
       "      <th>Order ID</th>\n",
       "      <th>Ship Time</th>\n",
       "      <th>Product Name</th>\n",
       "      <th>Deal Price</th>\n",
       "      <th>Quantity</th>\n",
       "      <th>Voucher Code</th>\n",
       "      <th>Username (Buyer)</th>\n",
       "      <th>Zip Code</th>\n",
       "    </tr>\n",
       "  </thead>\n",
       "  <tbody>\n",
       "    <tr>\n",
       "      <th>132</th>\n",
       "      <td>220311MN64E61G</td>\n",
       "      <td>2022-03-12 08:57</td>\n",
       "      <td>Therapeutic blackCopper Compression Arthritis ...</td>\n",
       "      <td>9.02</td>\n",
       "      <td>1</td>\n",
       "      <td>NaN</td>\n",
       "      <td>phamandbingbing</td>\n",
       "      <td>431005</td>\n",
       "    </tr>\n",
       "    <tr>\n",
       "      <th>176</th>\n",
       "      <td>220510QMSG4KW1</td>\n",
       "      <td>2022-05-10 08:03</td>\n",
       "      <td>Shoulder Stability Brace with Pressure Pad Lig...</td>\n",
       "      <td>10.24</td>\n",
       "      <td>1</td>\n",
       "      <td>NaN</td>\n",
       "      <td>phamandbingbing</td>\n",
       "      <td>329768</td>\n",
       "    </tr>\n",
       "    <tr>\n",
       "      <th>319</th>\n",
       "      <td>220517EART5U57</td>\n",
       "      <td>2022-05-18 18:36</td>\n",
       "      <td>Shoulder Stability Brace with Pressure Pad Lig...</td>\n",
       "      <td>12.64</td>\n",
       "      <td>1</td>\n",
       "      <td>NaN</td>\n",
       "      <td>phamandbingbing</td>\n",
       "      <td>510628</td>\n",
       "    </tr>\n",
       "    <tr>\n",
       "      <th>571</th>\n",
       "      <td>2205267X118KU9</td>\n",
       "      <td>2022-05-27 13:18</td>\n",
       "      <td>Shoulder Stability Brace with Pressure Pad Lig...</td>\n",
       "      <td>10.24</td>\n",
       "      <td>1</td>\n",
       "      <td>BAUALL1OFFFMAY26</td>\n",
       "      <td>phamandbingbing</td>\n",
       "      <td>510147</td>\n",
       "    </tr>\n",
       "    <tr>\n",
       "      <th>52</th>\n",
       "      <td>2208024BNVY5NV</td>\n",
       "      <td>2022-08-04 13:53</td>\n",
       "      <td>Magnetic Therapy Self-Heating Arm Elbow Brace ...</td>\n",
       "      <td>12.80</td>\n",
       "      <td>1</td>\n",
       "      <td>NaN</td>\n",
       "      <td>phamandbingbing</td>\n",
       "      <td>574044</td>\n",
       "    </tr>\n",
       "  </tbody>\n",
       "</table>\n",
       "</div>"
      ],
      "text/plain": [
       "           Order ID         Ship Time  \\\n",
       "132  220311MN64E61G  2022-03-12 08:57   \n",
       "176  220510QMSG4KW1  2022-05-10 08:03   \n",
       "319  220517EART5U57  2022-05-18 18:36   \n",
       "571  2205267X118KU9  2022-05-27 13:18   \n",
       "52   2208024BNVY5NV  2022-08-04 13:53   \n",
       "\n",
       "                                          Product Name  Deal Price  Quantity  \\\n",
       "132  Therapeutic blackCopper Compression Arthritis ...        9.02         1   \n",
       "176  Shoulder Stability Brace with Pressure Pad Lig...       10.24         1   \n",
       "319  Shoulder Stability Brace with Pressure Pad Lig...       12.64         1   \n",
       "571  Shoulder Stability Brace with Pressure Pad Lig...       10.24         1   \n",
       "52   Magnetic Therapy Self-Heating Arm Elbow Brace ...       12.80         1   \n",
       "\n",
       "         Voucher Code Username (Buyer)  Zip Code  \n",
       "132               NaN  phamandbingbing    431005  \n",
       "176               NaN  phamandbingbing    329768  \n",
       "319               NaN  phamandbingbing    510628  \n",
       "571  BAUALL1OFFFMAY26  phamandbingbing    510147  \n",
       "52                NaN  phamandbingbing    574044  "
      ]
     },
     "execution_count": 39,
     "metadata": {},
     "output_type": "execute_result"
    }
   ],
   "source": [
    "data[data['Username (Buyer)']==\"phamandbingbing\"]"
   ]
  },
  {
   "cell_type": "markdown",
   "id": "2ae40097",
   "metadata": {},
   "source": [
    "## Insight:\n",
    "- **there are lots of long tail products**"
   ]
  },
  {
   "cell_type": "code",
   "execution_count": 45,
   "id": "ba6e9bfe",
   "metadata": {},
   "outputs": [
    {
     "data": {
      "text/plain": [
       "[Text(0.5, 0, 'Number of Purchases for a given Product')]"
      ]
     },
     "execution_count": 45,
     "metadata": {},
     "output_type": "execute_result"
    },
    {
     "data": {
      "image/png": "[encoded data removed]",
      "text/plain": [
       "<Figure size 640x480 with 1 Axes>"
      ]
     },
     "metadata": {},
     "output_type": "display_data"
    }
   ],
   "source": [
    "p = sb.histplot(data['Product Name'].value_counts(), color = \"#DECDF5\", kde = False)\n",
    "p.set(xlabel = \"Number of Purchases for a given Product\")"
   ]
  },
  {
   "cell_type": "code",
   "execution_count": 53,
   "id": "a6ce3574",
   "metadata": {},
   "outputs": [
    {
     "data": {
      "text/html": [
       "<div>\n",
       "<style scoped>\n",
       "    .dataframe tbody tr th:only-of-type {\n",
       "        vertical-align: middle;\n",
       "    }\n",
       "\n",
       "    .dataframe tbody tr th {\n",
       "        vertical-align: top;\n",
       "    }\n",
       "\n",
       "    .dataframe thead th {\n",
       "        text-align: right;\n",
       "    }\n",
       "</style>\n",
       "<table border=\"1\" class=\"dataframe\">\n",
       "  <thead>\n",
       "    <tr style=\"text-align: right;\">\n",
       "      <th></th>\n",
       "      <th>Product ID</th>\n",
       "      <th>Parent SKU</th>\n",
       "      <th>Product Name</th>\n",
       "      <th>Product Description</th>\n",
       "      <th>Result</th>\n",
       "      <th>Fail Reason</th>\n",
       "    </tr>\n",
       "  </thead>\n",
       "  <tbody>\n",
       "    <tr>\n",
       "      <th>0</th>\n",
       "      <td>23702943029</td>\n",
       "      <td>NaN</td>\n",
       "      <td>Wifi IP Camera PTZ Light Bulb Camera E27 Socke...</td>\n",
       "      <td>Overview\\nEssential details\\n\\nWarranty:  3 mo...</td>\n",
       "      <td>NaN</td>\n",
       "      <td>NaN</td>\n",
       "    </tr>\n",
       "    <tr>\n",
       "      <th>1</th>\n",
       "      <td>23501665694</td>\n",
       "      <td>NaN</td>\n",
       "      <td>Stainless Steel Necklace with Arrow Pendant Je...</td>\n",
       "      <td>Vintage Men Stainless Steel Necklace Jewelry P...</td>\n",
       "      <td>NaN</td>\n",
       "      <td>NaN</td>\n",
       "    </tr>\n",
       "    <tr>\n",
       "      <th>2</th>\n",
       "      <td>23304243446</td>\n",
       "      <td>NaN</td>\n",
       "      <td>Thermos Vacuum Flasks 304 Stainless Steel Insu...</td>\n",
       "      <td>450ml Leakproof Double Wall thermos Vacuum Fla...</td>\n",
       "      <td>NaN</td>\n",
       "      <td>NaN</td>\n",
       "    </tr>\n",
       "    <tr>\n",
       "      <th>3</th>\n",
       "      <td>22505247347</td>\n",
       "      <td>NaN</td>\n",
       "      <td>Candle Soya wax with Crystal 3 pcs Randam design</td>\n",
       "      <td>Candles soya wax with crystal</td>\n",
       "      <td>NaN</td>\n",
       "      <td>NaN</td>\n",
       "    </tr>\n",
       "    <tr>\n",
       "      <th>4</th>\n",
       "      <td>22503134229</td>\n",
       "      <td>NaN</td>\n",
       "      <td>Ice Pack for Knee Pain Relief, Reusable Gel Ic...</td>\n",
       "      <td>KNEE GEL PACK WRAP PAIN RELIEF INSTEAD OF HARM...</td>\n",
       "      <td>NaN</td>\n",
       "      <td>NaN</td>\n",
       "    </tr>\n",
       "    <tr>\n",
       "      <th>...</th>\n",
       "      <td>...</td>\n",
       "      <td>...</td>\n",
       "      <td>...</td>\n",
       "      <td>...</td>\n",
       "      <td>...</td>\n",
       "      <td>...</td>\n",
       "    </tr>\n",
       "    <tr>\n",
       "      <th>271</th>\n",
       "      <td>3333330067</td>\n",
       "      <td>NaN</td>\n",
       "      <td>Bunion Corrector Orthopedic Bunion Correctors ...</td>\n",
       "      <td>\\nBig Bone Orthopedic Bunion Correction Pedicu...</td>\n",
       "      <td>NaN</td>\n",
       "      <td>NaN</td>\n",
       "    </tr>\n",
       "    <tr>\n",
       "      <th>272</th>\n",
       "      <td>3295377541</td>\n",
       "      <td>NaN</td>\n",
       "      <td>Magnetic Therapy Self-Heating Arm Elbow Brace ...</td>\n",
       "      <td>Products description\\n\\n* Brand new and high q...</td>\n",
       "      <td>NaN</td>\n",
       "      <td>NaN</td>\n",
       "    </tr>\n",
       "    <tr>\n",
       "      <th>273</th>\n",
       "      <td>3295353571</td>\n",
       "      <td>NaN</td>\n",
       "      <td>Carpal Tunnel Wrist Brace Support - Wrist Spli...</td>\n",
       "      <td>Products descriptions\\n\\nUNIVERSAL USE: With c...</td>\n",
       "      <td>NaN</td>\n",
       "      <td>NaN</td>\n",
       "    </tr>\n",
       "    <tr>\n",
       "      <th>274</th>\n",
       "      <td>3233299909</td>\n",
       "      <td>NaN</td>\n",
       "      <td>Sport Face Mask with Activated Carbon Pm 2.5 r...</td>\n",
       "      <td>Sport Face Mask With Activated Carbon Pm 2.5 A...</td>\n",
       "      <td>NaN</td>\n",
       "      <td>NaN</td>\n",
       "    </tr>\n",
       "    <tr>\n",
       "      <th>275</th>\n",
       "      <td>2952217870</td>\n",
       "      <td>NaN</td>\n",
       "      <td>Ultra light Mini Umbrella 5 folding capsule wi...</td>\n",
       "      <td>Very Small UV Sun Umbrella Pocket Mini Umbrell...</td>\n",
       "      <td>NaN</td>\n",
       "      <td>NaN</td>\n",
       "    </tr>\n",
       "  </tbody>\n",
       "</table>\n",
       "<p>276 rows × 6 columns</p>\n",
       "</div>"
      ],
      "text/plain": [
       "      Product ID Parent SKU  \\\n",
       "0    23702943029        NaN   \n",
       "1    23501665694        NaN   \n",
       "2    23304243446        NaN   \n",
       "3    22505247347        NaN   \n",
       "4    22503134229        NaN   \n",
       "..           ...        ...   \n",
       "271   3333330067        NaN   \n",
       "272   3295377541        NaN   \n",
       "273   3295353571        NaN   \n",
       "274   3233299909        NaN   \n",
       "275   2952217870        NaN   \n",
       "\n",
       "                                          Product Name  \\\n",
       "0    Wifi IP Camera PTZ Light Bulb Camera E27 Socke...   \n",
       "1    Stainless Steel Necklace with Arrow Pendant Je...   \n",
       "2    Thermos Vacuum Flasks 304 Stainless Steel Insu...   \n",
       "3     Candle Soya wax with Crystal 3 pcs Randam design   \n",
       "4    Ice Pack for Knee Pain Relief, Reusable Gel Ic...   \n",
       "..                                                 ...   \n",
       "271  Bunion Corrector Orthopedic Bunion Correctors ...   \n",
       "272  Magnetic Therapy Self-Heating Arm Elbow Brace ...   \n",
       "273  Carpal Tunnel Wrist Brace Support - Wrist Spli...   \n",
       "274  Sport Face Mask with Activated Carbon Pm 2.5 r...   \n",
       "275  Ultra light Mini Umbrella 5 folding capsule wi...   \n",
       "\n",
       "                                   Product Description  Result  Fail Reason  \n",
       "0    Overview\\nEssential details\\n\\nWarranty:  3 mo...     NaN          NaN  \n",
       "1    Vintage Men Stainless Steel Necklace Jewelry P...     NaN          NaN  \n",
       "2    450ml Leakproof Double Wall thermos Vacuum Fla...     NaN          NaN  \n",
       "3                        Candles soya wax with crystal     NaN          NaN  \n",
       "4    KNEE GEL PACK WRAP PAIN RELIEF INSTEAD OF HARM...     NaN          NaN  \n",
       "..                                                 ...     ...          ...  \n",
       "271  \\nBig Bone Orthopedic Bunion Correction Pedicu...     NaN          NaN  \n",
       "272  Products description\\n\\n* Brand new and high q...     NaN          NaN  \n",
       "273  Products descriptions\\n\\nUNIVERSAL USE: With c...     NaN          NaN  \n",
       "274  Sport Face Mask With Activated Carbon Pm 2.5 A...     NaN          NaN  \n",
       "275  Very Small UV Sun Umbrella Pocket Mini Umbrell...     NaN          NaN  \n",
       "\n",
       "[276 rows x 6 columns]"
      ]
     },
     "execution_count": 53,
     "metadata": {},
     "output_type": "execute_result"
    }
   ],
   "source": [
    "product_data = pd.read_excel(\"mass_update_basic_info_120171733_20221116234237.xlsx\", header = 2)\n",
    "product_data"
   ]
  },
  {
   "cell_type": "markdown",
   "id": "a1b31b3a",
   "metadata": {},
   "source": [
    "## Insight on Data acquisition:\n",
    "- **It may be difficult to acquire user-interaction data**\n",
    "- for shopee:\n",
    "    - user-interaction data can be downloaded, BUT the seller can download only 1 month of interaction data per minute (which is a hassle)\n",
    "    - product catalog download can be downloaded easily at one go. this includes product name and description\n",
    "    - reviews cannot be directly downloaded though, it could be scraped (against shopee rules)"
   ]
  },
  {
   "cell_type": "markdown",
   "id": "2a5a75f0",
   "metadata": {},
   "source": [
    "### Summary:\n",
    "- we are dealing with two main problems:\n",
    "    1. it may be diffcult to acquire the data we need i.e user interaction data\n",
    "    2. the data itself may not be suitable due to a high proportion of cold start users and items\n",
    "    "
   ]
  }
 ],
 "metadata": {
  "kernelspec": {
   "display_name": "Python 3 (ipykernel)",
   "language": "python",
   "name": "python3"
  },
  "language_info": {
   "codemirror_mode": {
    "name": "ipython",
    "version": 3
   },
   "file_extension": ".py",
   "mimetype": "text/x-python",
   "name": "python",
   "nbconvert_exporter": "python",
   "pygments_lexer": "ipython3",
   "version": "3.9.12"
  }
 },
 "nbformat": 4,
 "nbformat_minor": 5
}
