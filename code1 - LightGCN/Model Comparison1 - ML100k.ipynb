{
 "cells": [
  {
   "cell_type": "markdown",
   "id": "57e4d0f0-ea34-4624-8d01-15efdf3ff6c2",
   "metadata": {},
   "source": [
    "# ABOUT:\n",
    "- in this notebook, i compare the training time, inference time and performance between SAR and LightGCN on the ML100k Dataset"
   ]
  },
  {
   "cell_type": "code",
   "execution_count": 1,
   "id": "5af0ab05",
   "metadata": {},
   "outputs": [],
   "source": [
    "from recommenders.models.sar import SAR\n",
    "from recommenders.datasets.python_splitters import python_stratified_split\n",
    "from recommenders.utils.constants import SEED as DEFAULT_SEED\n",
    "from recommenders.evaluation.python_evaluation import precision_at_k\n",
    "from recommenders.models.deeprec.DataModel.ImplicitCF import ImplicitCF\n",
    "from recommenders.models.deeprec.deeprec_utils import prepare_hparams\n",
    "from recommenders.models.deeprec.models.graphrec.lightgcn import LightGCN\n",
    "from recommenders.utils.timer import Timer\n",
    "\n",
    "import pandas as pd"
   ]
  },
  {
   "cell_type": "code",
   "execution_count": 2,
   "id": "1e23940f-2198-4339-9564-ecaff3e56b47",
   "metadata": {},
   "outputs": [],
   "source": [
    "TOP_K = 10\n",
    "MOVIELENS_DATA_SIZE = '100k'\n",
    "EPOCHS = 40\n",
    "BATCH_SIZE = 1024\n",
    "SEED = DEFAULT_SEED  \n",
    "COL_USER = \"userID\"\n",
    "COL_ITEM = \"itemID\"\n",
    "COL_RATING = \"rating\"\n",
    "COL_TIMESTAMP = \"timestamp\"\n",
    "\n",
    "yaml_file = r\"C:\\Users\\tanch\\Documents\\NTU\\NTU Year 4\\FYP - GNN\\code1\\config\\lightgcn.yml\"\n",
    "# user_file = \"../../tests/resources/deeprec/lightgcn/user_embeddings.csv\"\n",
    "# item_file = \"../../tests/resources/deeprec/lightgcn/item_embeddings.csv\""
   ]
  },
  {
   "cell_type": "markdown",
   "id": "624ba682-6672-421c-ab20-dcfeb7f0b930",
   "metadata": {},
   "source": [
    "### read data"
   ]
  },
  {
   "cell_type": "code",
   "execution_count": 3,
   "id": "aa7cadcf-e639-43bf-9755-3534b3620e78",
   "metadata": {},
   "outputs": [],
   "source": [
    "path = r\"C:\\Users\\tanch\\Documents\\NTU\\NTU Year 4\\FYP - GNN\\data\\ml-latest-small\\ml-latest-small\\ratings.csv\"\n",
    "df = pd.read_csv(path)\n",
    "df.columns = [\"userID\", \"itemID\", \"rating\", \"timestamp\"] # better to follow the default colnames in the package"
   ]
  },
  {
   "cell_type": "markdown",
   "id": "8d3b3696-33e7-43c6-bbbb-62610b949b25",
   "metadata": {},
   "source": [
    "#### Train test split"
   ]
  },
  {
   "cell_type": "code",
   "execution_count": 88,
   "id": "0ad7117c-39c9-41a6-b282-56061dba8657",
   "metadata": {},
   "outputs": [],
   "source": [
    "train, test = python_stratified_split(df, ratio=0.8,\n",
    "                                      min_rating=1, filter_by='user', \n",
    "                                      col_user=COL_USER, col_item=COL_ITEM, \n",
    "                                      seed=SEED)"
   ]
  },
  {
   "cell_type": "code",
   "execution_count": 89,
   "id": "c4500731-f3c9-4d55-a142-c2750659a98a",
   "metadata": {},
   "outputs": [
    {
     "name": "stdout",
     "output_type": "stream",
     "text": [
      "\n",
      "Train:\n",
      "Total Ratings: 80672\n",
      "Unique Users: 610\n",
      "Unique Items: 8929\n",
      "\n",
      "Test:\n",
      "Total Ratings: 20164\n",
      "Unique Users: 610\n",
      "Unique Items: 5237\n",
      "\n"
     ]
    }
   ],
   "source": [
    "print(\"\"\"\n",
    "Train:\n",
    "Total Ratings: {train_total}\n",
    "Unique Users: {train_users}\n",
    "Unique Items: {train_items}\n",
    "\n",
    "Test:\n",
    "Total Ratings: {test_total}\n",
    "Unique Users: {test_users}\n",
    "Unique Items: {test_items}\n",
    "\"\"\".format(\n",
    "    train_total=len(train),\n",
    "    train_users=len(train['userID'].unique()),\n",
    "    train_items=len(train['itemID'].unique()),\n",
    "    test_total=len(test),\n",
    "    test_users=len(test['userID'].unique()),\n",
    "    test_items=len(test['itemID'].unique()),\n",
    "))"
   ]
  },
  {
   "cell_type": "markdown",
   "id": "f6431c5a-df0d-413a-b346-cadf0811f546",
   "metadata": {},
   "source": [
    "## Train and Evaluate: SAR"
   ]
  },
  {
   "cell_type": "code",
   "execution_count": 90,
   "id": "e2b837d3-ef1b-4778-9356-d00d39f2d24d",
   "metadata": {},
   "outputs": [],
   "source": [
    "# logging.basicConfig(level=logging.DEBUG, \n",
    "#                     format='%(asctime)s %(levelname)-8s %(message)s')\n",
    "\n",
    "model_sar = SAR(\n",
    "    col_user=COL_USER,\n",
    "    col_item=COL_ITEM,\n",
    "    col_rating=COL_RATING,\n",
    "    col_timestamp=COL_TIMESTAMP,\n",
    "    similarity_type=\"cosine\", \n",
    "    time_decay_coefficient=30, \n",
    "    timedecay_formula=False,\n",
    "    normalize=True\n",
    ")"
   ]
  },
  {
   "cell_type": "code",
   "execution_count": 91,
   "id": "e10e9b7c-abec-4eca-940c-9b750da51dba",
   "metadata": {},
   "outputs": [],
   "source": [
    "with Timer() as train_time:\n",
    "    model_sar.fit(train)"
   ]
  },
  {
   "cell_type": "code",
   "execution_count": 93,
   "id": "57031ad5-873b-428d-9d39-e2073dda4f17",
   "metadata": {},
   "outputs": [
    {
     "name": "stdout",
     "output_type": "stream",
     "text": [
      "Took 3.8839795000003505 seconds for training.\n"
     ]
    }
   ],
   "source": [
    "print(\"Took {} seconds for training.\".format(train_time.interval))"
   ]
  },
  {
   "cell_type": "code",
   "execution_count": 109,
   "id": "0a166776-49ce-4917-b141-c38ecc2a25c0",
   "metadata": {},
   "outputs": [],
   "source": [
    "with Timer() as test_time:\n",
    "    top_k = model_sar.recommend_k_items(test, top_k=TOP_K, remove_seen=True)"
   ]
  },
  {
   "cell_type": "code",
   "execution_count": 110,
   "id": "c4d9681f-8521-4923-a256-0405259dfa6c",
   "metadata": {},
   "outputs": [
    {
     "name": "stdout",
     "output_type": "stream",
     "text": [
      "Took 1.5468562999994901 seconds for inference.\n"
     ]
    }
   ],
   "source": [
    "print(\"Took {} seconds for inference.\".format(test_time.interval))"
   ]
  },
  {
   "cell_type": "code",
   "execution_count": 96,
   "id": "aa04c6b9-6133-4792-b80e-4d8d8f98a7ed",
   "metadata": {},
   "outputs": [
    {
     "data": {
      "text/plain": [
       "0.2145901639344263"
      ]
     },
     "execution_count": 96,
     "metadata": {},
     "output_type": "execute_result"
    }
   ],
   "source": [
    "eval_precision = precision_at_k(test, top_k, col_user='userID', col_item='itemID', col_rating='rating', k=TOP_K)\n",
    "eval_precision"
   ]
  },
  {
   "cell_type": "markdown",
   "id": "335d0dd3-069f-493e-8a2b-076ec5110af4",
   "metadata": {},
   "source": [
    "## Train and Evaluate: LightGCN"
   ]
  },
  {
   "cell_type": "code",
   "execution_count": 97,
   "id": "3d3cce20-546d-4148-bc92-1f23b5730038",
   "metadata": {},
   "outputs": [
    {
     "name": "stderr",
     "output_type": "stream",
     "text": [
      "C:\\Users\\tanch\\anaconda3\\envs\\fyp1\\lib\\site-packages\\recommenders\\models\\deeprec\\DataModel\\ImplicitCF.py:73: FutureWarning: The frame.append method is deprecated and will be removed from pandas in a future version. Use pandas.concat instead.\n",
      "  df = train if test is None else train.append(test)\n"
     ]
    }
   ],
   "source": [
    "data = ImplicitCF(train = train, test=test, \n",
    "                  adj_dir=None, \n",
    "                  col_user=COL_USER, col_item=COL_ITEM, \n",
    "                  seed=SEED)"
   ]
  },
  {
   "cell_type": "code",
   "execution_count": 98,
   "id": "bd403815-1442-4db6-9362-ea94b90c3b5d",
   "metadata": {},
   "outputs": [],
   "source": [
    "loss_type = \"AmpBPR2\"\n",
    "loss_neg_weight = 2\n",
    "log_wandb = False"
   ]
  },
  {
   "cell_type": "code",
   "execution_count": 101,
   "id": "01ed3cba-c888-4788-ac4a-7a1497bc0bed",
   "metadata": {},
   "outputs": [
    {
     "name": "stdout",
     "output_type": "stream",
     "text": [
      "Already create adjacency matrix.\n",
      "Already normalize adjacency matrix.\n",
      "Using xavier initialization.\n"
     ]
    }
   ],
   "source": [
    "hparams = prepare_hparams(yaml_file,\n",
    "                          n_layers=2,\n",
    "                          loss_type = loss_type, \n",
    "                          loss_neg_weight = loss_neg_weight, \n",
    "                          log_wandb = log_wandb,\n",
    "                          batch_size=BATCH_SIZE,\n",
    "                          epochs=EPOCHS,\n",
    "                          learning_rate=0.01,\n",
    "                          eval_epoch=100,\n",
    "                          top_k=TOP_K,\n",
    "                          )\n",
    "# initiate model\n",
    "model = LightGCN(hparams, data, seed=SEED)"
   ]
  },
  {
   "cell_type": "code",
   "execution_count": 102,
   "id": "d00c5676-5844-416c-9da4-dda18b7bc6b6",
   "metadata": {
    "scrolled": true
   },
   "outputs": [
    {
     "name": "stdout",
     "output_type": "stream",
     "text": [
      "Epoch 1 (train)4.7s: train loss = 0.46561 = (mf)0.46536 + (embed)0.00025\n",
      "Epoch 2 (train)4.4s: train loss = 0.27482 = (mf)0.27419 + (embed)0.00062\n",
      "Epoch 3 (train)4.4s: train loss = 0.23179 = (mf)0.23097 + (embed)0.00082\n",
      "Epoch 4 (train)4.3s: train loss = 0.19831 = (mf)0.19730 + (embed)0.00101\n",
      "Epoch 5 (train)4.4s: train loss = 0.16874 = (mf)0.16752 + (embed)0.00121\n",
      "Epoch 6 (train)4.3s: train loss = 0.14983 = (mf)0.14841 + (embed)0.00142\n",
      "Epoch 7 (train)4.2s: train loss = 0.12808 = (mf)0.12643 + (embed)0.00165\n",
      "Epoch 8 (train)4.3s: train loss = 0.11054 = (mf)0.10866 + (embed)0.00188\n",
      "Epoch 9 (train)4.3s: train loss = 0.10064 = (mf)0.09853 + (embed)0.00211\n",
      "Epoch 10 (train)4.5s: train loss = 0.08822 = (mf)0.08585 + (embed)0.00237\n",
      "Epoch 11 (train)4.5s: train loss = 0.07724 = (mf)0.07464 + (embed)0.00260\n",
      "Epoch 12 (train)4.2s: train loss = 0.06777 = (mf)0.06490 + (embed)0.00287\n",
      "Epoch 13 (train)4.3s: train loss = 0.05999 = (mf)0.05688 + (embed)0.00311\n",
      "Epoch 14 (train)4.2s: train loss = 0.05244 = (mf)0.04908 + (embed)0.00336\n",
      "Epoch 15 (train)4.2s: train loss = 0.04443 = (mf)0.04083 + (embed)0.00361\n",
      "Epoch 16 (train)4.2s: train loss = 0.04094 = (mf)0.03708 + (embed)0.00386\n",
      "Epoch 17 (train)4.1s: train loss = 0.03636 = (mf)0.03225 + (embed)0.00411\n",
      "Epoch 18 (train)4.2s: train loss = 0.03169 = (mf)0.02733 + (embed)0.00436\n",
      "Epoch 19 (train)4.1s: train loss = 0.02979 = (mf)0.02519 + (embed)0.00460\n",
      "Epoch 20 (train)4.1s: train loss = 0.02632 = (mf)0.02146 + (embed)0.00486\n",
      "Epoch 21 (train)4.1s: train loss = 0.02338 = (mf)0.01831 + (embed)0.00507\n",
      "Epoch 22 (train)4.1s: train loss = 0.02146 = (mf)0.01620 + (embed)0.00526\n",
      "Epoch 23 (train)4.2s: train loss = 0.01957 = (mf)0.01413 + (embed)0.00544\n",
      "Epoch 24 (train)4.1s: train loss = 0.01846 = (mf)0.01278 + (embed)0.00568\n",
      "Epoch 25 (train)4.4s: train loss = 0.01711 = (mf)0.01128 + (embed)0.00583\n",
      "Epoch 26 (train)4.1s: train loss = 0.01651 = (mf)0.01046 + (embed)0.00604\n",
      "Epoch 27 (train)4.3s: train loss = 0.01535 = (mf)0.00916 + (embed)0.00619\n",
      "Epoch 28 (train)4.6s: train loss = 0.01479 = (mf)0.00845 + (embed)0.00635\n",
      "Epoch 29 (train)4.2s: train loss = 0.01386 = (mf)0.00739 + (embed)0.00647\n",
      "Epoch 30 (train)4.3s: train loss = 0.01343 = (mf)0.00677 + (embed)0.00666\n",
      "Epoch 31 (train)4.2s: train loss = 0.01326 = (mf)0.00651 + (embed)0.00674\n",
      "Epoch 32 (train)4.1s: train loss = 0.01271 = (mf)0.00580 + (embed)0.00691\n",
      "Epoch 33 (train)4.2s: train loss = 0.01240 = (mf)0.00543 + (embed)0.00698\n",
      "Epoch 34 (train)4.2s: train loss = 0.01226 = (mf)0.00515 + (embed)0.00711\n",
      "Epoch 35 (train)4.1s: train loss = 0.01180 = (mf)0.00454 + (embed)0.00726\n",
      "Epoch 36 (train)4.1s: train loss = 0.01159 = (mf)0.00426 + (embed)0.00733\n",
      "Epoch 37 (train)4.1s: train loss = 0.01138 = (mf)0.00398 + (embed)0.00740\n",
      "Epoch 38 (train)4.2s: train loss = 0.01111 = (mf)0.00362 + (embed)0.00748\n",
      "Epoch 39 (train)4.3s: train loss = 0.01113 = (mf)0.00357 + (embed)0.00756\n",
      "Epoch 40 (train)4.2s: train loss = 0.01091 = (mf)0.00328 + (embed)0.00763\n"
     ]
    }
   ],
   "source": [
    "with Timer() as train_time:\n",
    "    model.fit()"
   ]
  },
  {
   "cell_type": "code",
   "execution_count": 103,
   "id": "68623471-a017-49b6-94f3-f8328c9cb3f4",
   "metadata": {},
   "outputs": [
    {
     "name": "stdout",
     "output_type": "stream",
     "text": [
      "Took 170.1838004000001 seconds for training.\n"
     ]
    }
   ],
   "source": [
    "print(\"Took {} seconds for training.\".format(train_time.interval))"
   ]
  },
  {
   "cell_type": "code",
   "execution_count": 107,
   "id": "4423658e-b089-40f4-bfa7-4da300516916",
   "metadata": {},
   "outputs": [],
   "source": [
    "with Timer() as test_time:\n",
    "    top_k = model.recommend_k_items(test, top_k=TOP_K, remove_seen=True)"
   ]
  },
  {
   "cell_type": "code",
   "execution_count": 108,
   "id": "c7281067-642f-451d-81f2-ee1ea33e28fd",
   "metadata": {},
   "outputs": [
    {
     "name": "stdout",
     "output_type": "stream",
     "text": [
      "Took 0.15202570000019477 seconds for inference.\n"
     ]
    }
   ],
   "source": [
    "print(\"Took {} seconds for inference.\".format(test_time.interval))"
   ]
  },
  {
   "cell_type": "code",
   "execution_count": 106,
   "id": "e0e03efe-f618-4d15-a0e1-4ca6028eee0a",
   "metadata": {},
   "outputs": [
    {
     "data": {
      "text/plain": [
       "0.24098360655737705"
      ]
     },
     "execution_count": 106,
     "metadata": {},
     "output_type": "execute_result"
    }
   ],
   "source": [
    "eval_precision = precision_at_k(test, top_k, col_user='userID', col_item='itemID', col_rating='rating', k=TOP_K)\n",
    "eval_precision"
   ]
  },
  {
   "cell_type": "markdown",
   "id": "171b9b94-cc97-4736-b9db-302ca41d62f6",
   "metadata": {},
   "source": [
    "## Train and Evaluate: Popularity Recommender"
   ]
  },
  {
   "cell_type": "code",
   "execution_count": 121,
   "id": "271d143c-3787-4d2e-98a0-b34b2be98903",
   "metadata": {},
   "outputs": [],
   "source": [
    "class PopRecommender():\n",
    "    def __init__(self, COL_ITEM = \"itemID\", COL_USER = \"userID\"):\n",
    "        self.COL_ITEM = COL_ITEM\n",
    "        self.COL_USER = COL_USER\n",
    "    def fit(self, train):\n",
    "        self.train = train\n",
    "        self.memory = train[COL_ITEM].value_counts().keys().tolist()\n",
    "    def recommend(self, user_id, num_rec = 20, filtered_item_ids = [], remove_seen = True):\n",
    "        if remove_seen:\n",
    "            remove_item_ids = self._get_user_liked_item_ids(user_id)\n",
    "            remove_item_ids += filtered_item_ids\n",
    "        \n",
    "        # recommend num_rec items\n",
    "        rec_items = []\n",
    "        count = 0\n",
    "        for item_id in self.memory:\n",
    "            if item_id not in filtered_item_ids: \n",
    "                count+=1\n",
    "                rec_items.append(item_id)\n",
    "            if count >= num_rec:\n",
    "                break\n",
    "        return rec_items\n",
    "    \n",
    "    def recommend_k_items(self, test, top_k=10, remove_seen=True):\n",
    "        output = pd.DataFrame()\n",
    "        for userID in test[self.COL_USER]:\n",
    "            rec_items = self.recommend(userID, num_rec = top_k, remove_seen = remove_seen)\n",
    "            tmp = pd.DataFrame(rec_items, columns = [self.COL_ITEM])\n",
    "            tmp[self.COL_USER] = userID\n",
    "            output = pd.concat([output, tmp], axis = 0)\n",
    "        output[\"prediction\"] = 1\n",
    "        return output\n",
    "    def _get_user_liked_item_ids(self, user_id):\n",
    "        return self.train[self.train[self.COL_USER] == user_id][self.COL_ITEM].tolist()"
   ]
  },
  {
   "cell_type": "code",
   "execution_count": 122,
   "id": "1b567e90-1c1f-404c-9ec7-8bb89564ac47",
   "metadata": {},
   "outputs": [],
   "source": [
    "rec = PopRecommender()\n",
    "rec.fit(train)"
   ]
  },
  {
   "cell_type": "code",
   "execution_count": 123,
   "id": "5b7608cd-ec80-41d4-a6f3-7c41264dd304",
   "metadata": {},
   "outputs": [],
   "source": [
    "top_k = rec.recommend_k_items(test, top_k = TOP_K, remove_seen = True)"
   ]
  },
  {
   "cell_type": "code",
   "execution_count": 124,
   "id": "82383932-3693-4cba-b930-f3d041cd35ed",
   "metadata": {},
   "outputs": [
    {
     "data": {
      "text/plain": [
       "0.06245901639344264"
      ]
     },
     "execution_count": 124,
     "metadata": {},
     "output_type": "execute_result"
    }
   ],
   "source": [
    "eval_precision = precision_at_k(test, top_k, col_user='userID', col_item='itemID', col_rating='rating', k=TOP_K)\n",
    "eval_precision"
   ]
  },
  {
   "cell_type": "markdown",
   "id": "271c93a9-0910-4783-ab76-7c148d31ed36",
   "metadata": {},
   "source": [
    "## Comparison\n",
    "- LightGCN has better performance\n",
    "- Though LightGCN has a much longer training time, its inference time is much shorter than SAR"
   ]
  },
  {
   "cell_type": "code",
   "execution_count": 112,
   "id": "94d891aa-145b-4a57-b8ca-b83f865dbdd7",
   "metadata": {},
   "outputs": [],
   "source": [
    "import seaborn as sb"
   ]
  },
  {
   "cell_type": "code",
   "execution_count": 125,
   "id": "889126f7-af9f-4e0c-8932-9327b09f239b",
   "metadata": {},
   "outputs": [],
   "source": [
    "precison_tmp = {\n",
    "    \"LightGCN\":0.2410,\n",
    "    \"SAR\":0.2146,\n",
    "    \"Popularity\":0.062459\n",
    "}\n",
    "training_tmp = {\n",
    "    \"LightGCN\":170.18,\n",
    "    \"SAR\":3.884\n",
    "}\n",
    "inference_tmp = {\n",
    "    \"LightGCN\":0.15,\n",
    "    \"SAR\":1.5469\n",
    "}"
   ]
  },
  {
   "cell_type": "code",
   "execution_count": 126,
   "id": "7d4482c1-763b-4124-ba91-5a42e574654f",
   "metadata": {},
   "outputs": [
    {
     "data": {
      "text/plain": [
       "[Text(0.5, 0, 'Precision@10')]"
      ]
     },
     "execution_count": 126,
     "metadata": {},
     "output_type": "execute_result"
    },
    {
     "data": {
      "image/png": "[encoded data removed]",
      "text/plain": [
       "<Figure size 640x480 with 1 Axes>"
      ]
     },
     "metadata": {},
     "output_type": "display_data"
    }
   ],
   "source": [
    "p = sb.barplot(x = list(precison_tmp.values()),y = list(precison_tmp.keys()), palette = \"Accent\")\n",
    "p.set(xlabel = \"Precision@10\")"
   ]
  },
  {
   "cell_type": "code",
   "execution_count": 118,
   "id": "180c0f2e-be4c-4f35-ab8d-aee7f9bb14ca",
   "metadata": {},
   "outputs": [
    {
     "data": {
      "text/plain": [
       "[Text(0.5, 0, 'Training time/seconds')]"
      ]
     },
     "execution_count": 118,
     "metadata": {},
     "output_type": "execute_result"
    },
    {
     "data": {
      "image/png": "[encoded data removed]",
      "text/plain": [
       "<Figure size 640x480 with 1 Axes>"
      ]
     },
     "metadata": {},
     "output_type": "display_data"
    }
   ],
   "source": [
    "p = sb.barplot(x = list(training_tmp.values()),y = list(training_tmp.keys()), palette = \"Accent\")\n",
    "p.set(xlabel = \"Training time/seconds\")"
   ]
  },
  {
   "cell_type": "code",
   "execution_count": 120,
   "id": "2d4e7743-5359-43ea-9877-162476e546da",
   "metadata": {},
   "outputs": [
    {
     "data": {
      "text/plain": [
       "[Text(0.5, 0, 'Inference time/seconds')]"
      ]
     },
     "execution_count": 120,
     "metadata": {},
     "output_type": "execute_result"
    },
    {
     "data": {
      "image/png": "[encoded data removed]",
      "text/plain": [
       "<Figure size 640x480 with 1 Axes>"
      ]
     },
     "metadata": {},
     "output_type": "display_data"
    }
   ],
   "source": [
    "p = sb.barplot(x = list(inference_tmp.values()),y = list(inference_tmp.keys()), palette = \"Accent\")\n",
    "p.set(xlabel = \"Inference time/seconds\")"
   ]
  },
  {
   "cell_type": "code",
   "execution_count": null,
   "id": "0f1fdd23-a82f-4101-8557-76ea9dda5847",
   "metadata": {},
   "outputs": [],
   "source": []
  },
  {
   "cell_type": "code",
   "execution_count": null,
   "id": "dd4c6aa7-f138-49f8-9384-66a7c66c4d1c",
   "metadata": {},
   "outputs": [],
   "source": []
  },
  {
   "cell_type": "code",
   "execution_count": null,
   "id": "22edcacc-e063-41f1-bc68-7341ce8d5e70",
   "metadata": {},
   "outputs": [],
   "source": []
  }
 ],
 "metadata": {
  "kernelspec": {
   "display_name": "Python 3 (ipykernel)",
   "language": "python",
   "name": "python3"
  },
  "language_info": {
   "codemirror_mode": {
    "name": "ipython",
    "version": 3
   },
   "file_extension": ".py",
   "mimetype": "text/x-python",
   "name": "python",
   "nbconvert_exporter": "python",
   "pygments_lexer": "ipython3",
   "version": "3.9.12"
  }
 },
 "nbformat": 4,
 "nbformat_minor": 5
}
