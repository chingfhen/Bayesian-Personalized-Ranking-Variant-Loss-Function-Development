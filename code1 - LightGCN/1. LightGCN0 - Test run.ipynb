{
 "cells": [
  {
   "cell_type": "markdown",
   "id": "bc1971a3",
   "metadata": {
    "tags": []
   },
   "source": [
    "# ABOUT:\n",
    "- this notebook simply test runs lightgcn using *microsoft recommenders* package"
   ]
  },
  {
   "cell_type": "code",
   "execution_count": 18,
   "id": "760031bc",
   "metadata": {},
   "outputs": [],
   "source": [
    "from recommenders.datasets.amazon_reviews import download_and_extract\n",
    "from recommenders.datasets import movielens\n",
    "from recommenders.utils.constants import SEED as DEFAULT_SEED\n",
    "from recommenders.datasets.python_splitters import python_stratified_split\n",
    "from recommenders.models.deeprec.DataModel.ImplicitCF import ImplicitCF\n",
    "from recommenders.models.deeprec.deeprec_utils import prepare_hparams\n",
    "from recommenders.models.deeprec.models.graphrec.lightgcn import LightGCN\n",
    "from recommenders.utils.timer import Timer\n",
    "\n",
    "import pandas as pd"
   ]
  },
  {
   "cell_type": "code",
   "execution_count": 22,
   "id": "14a868e9",
   "metadata": {},
   "outputs": [],
   "source": [
    "TOP_K = 10\n",
    "MOVIELENS_DATA_SIZE = '100k'\n",
    "EPOCHS = 50\n",
    "BATCH_SIZE = 1024\n",
    "SEED = DEFAULT_SEED  \n",
    "COL_USER = \"userID\"\n",
    "COL_ITEM = \"itemID\"\n",
    "\n",
    "yaml_file = r\"C:\\Users\\tanch\\Documents\\NTU\\NTU Year 4\\FYP - GNN\\code1\\config\\lightgcn.yml\"\n",
    "# user_file = \"../../tests/resources/deeprec/lightgcn/user_embeddings.csv\"\n",
    "# item_file = \"../../tests/resources/deeprec/lightgcn/item_embeddings.csv\""
   ]
  },
  {
   "cell_type": "markdown",
   "id": "6587d9ee",
   "metadata": {
    "jp-MarkdownHeadingCollapsed": true,
    "tags": []
   },
   "source": [
    "### read data"
   ]
  },
  {
   "cell_type": "code",
   "execution_count": 23,
   "id": "03cfc174",
   "metadata": {},
   "outputs": [],
   "source": [
    "path = r\"C:\\Users\\tanch\\Documents\\NTU\\NTU Year 4\\FYP - GNN\\data\\ml-latest-small\\ml-latest-small\\ratings.csv\"\n",
    "df = pd.read_csv(path)\n",
    "df.columns = [\"userID\", \"itemID\", \"rating\", \"timestamp\"] # better to follow the default colnames in the package"
   ]
  },
  {
   "cell_type": "markdown",
   "id": "fd58ee19",
   "metadata": {
    "jp-MarkdownHeadingCollapsed": true,
    "tags": []
   },
   "source": [
    "### stratified split"
   ]
  },
  {
   "cell_type": "code",
   "execution_count": 26,
   "id": "950a4af0",
   "metadata": {},
   "outputs": [],
   "source": [
    "train, test = python_stratified_split(df, ratio=0.8,\n",
    "                                      min_rating=1, filter_by='user', \n",
    "                                      col_user=COL_USER, col_item=COL_ITEM, \n",
    "                                      seed=SEED)"
   ]
  },
  {
   "cell_type": "markdown",
   "id": "e6f5d857",
   "metadata": {
    "jp-MarkdownHeadingCollapsed": true,
    "tags": []
   },
   "source": [
    "### generate csr matrix"
   ]
  },
  {
   "cell_type": "code",
   "execution_count": 27,
   "id": "29c19b33",
   "metadata": {
    "scrolled": true,
    "tags": []
   },
   "outputs": [
    {
     "name": "stderr",
     "output_type": "stream",
     "text": [
      "C:\\Users\\tanch\\anaconda3\\envs\\fyp1\\lib\\site-packages\\recommenders\\models\\deeprec\\DataModel\\ImplicitCF.py:73: FutureWarning: The frame.append method is deprecated and will be removed from pandas in a future version. Use pandas.concat instead.\n",
      "  df = train if test is None else train.append(test)\n"
     ]
    }
   ],
   "source": [
    "data = ImplicitCF(train = train, test=test, \n",
    "                      adj_dir=None, \n",
    "                      col_user=COL_USER, col_item=COL_ITEM, \n",
    "                      seed=SEED)"
   ]
  },
  {
   "cell_type": "markdown",
   "id": "8d7ff64f",
   "metadata": {
    "jp-MarkdownHeadingCollapsed": true,
    "tags": []
   },
   "source": [
    "### instantiate model"
   ]
  },
  {
   "cell_type": "code",
   "execution_count": 35,
   "id": "b6d309a8",
   "metadata": {
    "scrolled": true
   },
   "outputs": [],
   "source": [
    "hparams = prepare_hparams(yaml_file,\n",
    "                          n_layers=3,\n",
    "                          batch_size=BATCH_SIZE,\n",
    "                          epochs=EPOCHS,\n",
    "                          learning_rate=0.005,\n",
    "                          eval_epoch=5,\n",
    "                          top_k=TOP_K,\n",
    "                         )"
   ]
  },
  {
   "cell_type": "code",
   "execution_count": 29,
   "id": "0cb3627f",
   "metadata": {
    "scrolled": true
   },
   "outputs": [
    {
     "name": "stdout",
     "output_type": "stream",
     "text": [
      "Already create adjacency matrix.\n",
      "Already normalize adjacency matrix.\n",
      "Using xavier initialization.\n"
     ]
    }
   ],
   "source": [
    "model = LightGCN(hparams, data, seed=SEED)"
   ]
  },
  {
   "cell_type": "markdown",
   "id": "8645c130",
   "metadata": {
    "jp-MarkdownHeadingCollapsed": true,
    "tags": []
   },
   "source": [
    "### train"
   ]
  },
  {
   "cell_type": "code",
   "execution_count": 30,
   "id": "f77feb22",
   "metadata": {
    "scrolled": true
   },
   "outputs": [
    {
     "name": "stdout",
     "output_type": "stream",
     "text": [
      "Epoch 1 (train)5.1s: train loss = 0.46225 = (mf)0.46209 + (embed)0.00016\n",
      "Epoch 2 (train)4.9s: train loss = 0.22795 = (mf)0.22740 + (embed)0.00055\n",
      "Epoch 3 (train)4.8s: train loss = 0.21432 = (mf)0.21365 + (embed)0.00067\n",
      "Epoch 4 (train)4.8s: train loss = 0.20868 = (mf)0.20795 + (embed)0.00073\n",
      "Epoch 5 (train)4.8s + (eval)0.3s: train loss = 0.19808 = (mf)0.19727 + (embed)0.00080, recall = 0.05682, ndcg = 0.15062, precision = 0.13082, map = 0.02728\n",
      "Epoch 6 (train)4.9s: train loss = 0.19255 = (mf)0.19167 + (embed)0.00089\n",
      "Epoch 7 (train)4.9s: train loss = 0.17989 = (mf)0.17892 + (embed)0.00098\n",
      "Epoch 8 (train)4.8s: train loss = 0.16522 = (mf)0.16413 + (embed)0.00109\n",
      "Epoch 9 (train)4.9s: train loss = 0.15915 = (mf)0.15795 + (embed)0.00120\n",
      "Epoch 10 (train)4.9s + (eval)0.2s: train loss = 0.15102 = (mf)0.14970 + (embed)0.00132, recall = 0.08448, ndcg = 0.19700, precision = 0.17066, map = 0.04386\n",
      "Epoch 11 (train)5.2s: train loss = 0.14483 = (mf)0.14338 + (embed)0.00145\n",
      "Epoch 12 (train)4.8s: train loss = 0.13590 = (mf)0.13434 + (embed)0.00156\n",
      "Epoch 13 (train)5.1s: train loss = 0.13318 = (mf)0.13150 + (embed)0.00168\n",
      "Epoch 14 (train)5.6s: train loss = 0.12852 = (mf)0.12673 + (embed)0.00179\n",
      "Epoch 15 (train)5.5s + (eval)0.3s: train loss = 0.12276 = (mf)0.12087 + (embed)0.00189, recall = 0.09479, ndcg = 0.20981, precision = 0.18426, map = 0.05158\n",
      "Epoch 16 (train)5.0s: train loss = 0.11919 = (mf)0.11719 + (embed)0.00200\n",
      "Epoch 17 (train)5.0s: train loss = 0.11582 = (mf)0.11372 + (embed)0.00210\n",
      "Epoch 18 (train)5.1s: train loss = 0.11053 = (mf)0.10833 + (embed)0.00220\n",
      "Epoch 19 (train)6.2s: train loss = 0.10708 = (mf)0.10476 + (embed)0.00232\n",
      "Epoch 20 (train)6.1s + (eval)0.3s: train loss = 0.10181 = (mf)0.09938 + (embed)0.00243, recall = 0.10547, ndcg = 0.22655, precision = 0.19787, map = 0.05763\n",
      "Epoch 21 (train)5.6s: train loss = 0.09952 = (mf)0.09698 + (embed)0.00254\n",
      "Epoch 22 (train)7.0s: train loss = 0.09438 = (mf)0.09173 + (embed)0.00265\n",
      "Epoch 23 (train)4.9s: train loss = 0.09069 = (mf)0.08792 + (embed)0.00278\n",
      "Epoch 24 (train)4.9s: train loss = 0.09128 = (mf)0.08841 + (embed)0.00288\n",
      "Epoch 25 (train)5.2s + (eval)0.2s: train loss = 0.08748 = (mf)0.08449 + (embed)0.00299, recall = 0.10806, ndcg = 0.23422, precision = 0.20689, map = 0.05865\n",
      "Epoch 26 (train)5.0s: train loss = 0.08470 = (mf)0.08159 + (embed)0.00310\n",
      "Epoch 27 (train)5.1s: train loss = 0.08289 = (mf)0.07968 + (embed)0.00321\n",
      "Epoch 28 (train)5.1s: train loss = 0.08048 = (mf)0.07715 + (embed)0.00333\n",
      "Epoch 29 (train)4.9s: train loss = 0.07849 = (mf)0.07506 + (embed)0.00344\n",
      "Epoch 30 (train)4.9s + (eval)0.3s: train loss = 0.07505 = (mf)0.07152 + (embed)0.00354, recall = 0.11265, ndcg = 0.24059, precision = 0.21279, map = 0.06143\n",
      "Epoch 31 (train)5.3s: train loss = 0.07502 = (mf)0.07137 + (embed)0.00365\n",
      "Epoch 32 (train)5.1s: train loss = 0.07195 = (mf)0.06820 + (embed)0.00375\n",
      "Epoch 33 (train)5.0s: train loss = 0.07004 = (mf)0.06619 + (embed)0.00386\n",
      "Epoch 34 (train)4.9s: train loss = 0.06899 = (mf)0.06503 + (embed)0.00396\n",
      "Epoch 35 (train)5.3s + (eval)0.3s: train loss = 0.06717 = (mf)0.06312 + (embed)0.00406, recall = 0.11946, ndcg = 0.25276, precision = 0.22295, map = 0.06594\n",
      "Epoch 36 (train)5.5s: train loss = 0.06586 = (mf)0.06171 + (embed)0.00415\n",
      "Epoch 37 (train)5.2s: train loss = 0.06212 = (mf)0.05785 + (embed)0.00427\n",
      "Epoch 38 (train)5.9s: train loss = 0.06205 = (mf)0.05767 + (embed)0.00437\n",
      "Epoch 39 (train)5.5s: train loss = 0.06202 = (mf)0.05756 + (embed)0.00446\n",
      "Epoch 40 (train)5.5s + (eval)0.3s: train loss = 0.05786 = (mf)0.05330 + (embed)0.00456, recall = 0.12675, ndcg = 0.26212, precision = 0.23164, map = 0.07052\n",
      "Epoch 41 (train)5.2s: train loss = 0.06045 = (mf)0.05579 + (embed)0.00466\n",
      "Epoch 42 (train)5.5s: train loss = 0.05720 = (mf)0.05247 + (embed)0.00473\n",
      "Epoch 43 (train)5.9s: train loss = 0.05667 = (mf)0.05185 + (embed)0.00482\n",
      "Epoch 44 (train)6.2s: train loss = 0.05700 = (mf)0.05209 + (embed)0.00492\n",
      "Epoch 45 (train)5.2s + (eval)0.2s: train loss = 0.05482 = (mf)0.04982 + (embed)0.00500, recall = 0.12949, ndcg = 0.26822, precision = 0.23754, map = 0.07255\n",
      "Epoch 46 (train)5.9s: train loss = 0.05301 = (mf)0.04793 + (embed)0.00509\n",
      "Epoch 47 (train)5.3s: train loss = 0.05503 = (mf)0.04988 + (embed)0.00515\n",
      "Epoch 48 (train)5.2s: train loss = 0.05340 = (mf)0.04817 + (embed)0.00523\n",
      "Epoch 49 (train)5.2s: train loss = 0.05128 = (mf)0.04599 + (embed)0.00530\n",
      "Epoch 50 (train)5.3s + (eval)0.3s: train loss = 0.05040 = (mf)0.04502 + (embed)0.00538, recall = 0.13180, ndcg = 0.27475, precision = 0.24393, map = 0.07410\n",
      "Took 265.98101190000034 seconds for training.\n"
     ]
    }
   ],
   "source": [
    "with Timer() as train_time:\n",
    "    model.fit()\n",
    "\n",
    "print(\"Took {} seconds for training.\".format(train_time.interval))"
   ]
  },
  {
   "cell_type": "code",
   "execution_count": 17,
   "id": "0ea14575",
   "metadata": {},
   "outputs": [
    {
     "data": {
      "text/plain": [
       "[]"
      ]
     },
     "execution_count": 17,
     "metadata": {},
     "output_type": "execute_result"
    }
   ],
   "source": [
    "# from tensorflow.config import list_physical_devices\n",
    "# list_physical_devices('GPU')"
   ]
  },
  {
   "cell_type": "code",
   "execution_count": 36,
   "id": "112d423e",
   "metadata": {},
   "outputs": [
    {
     "data": {
      "text/plain": [
       "HParams object with values {'use_entity': True, 'use_context': True, 'cross_activation': 'identity', 'user_dropout': False, 'dropout': [0.0], 'attention_dropout': 0.0, 'load_saved_model': False, 'fast_CIN_d': 0, 'use_Linear_part': False, 'use_FM_part': False, 'use_CIN_part': False, 'use_DNN_part': False, 'init_method': 'tnormal', 'init_value': 0.01, 'embed_l2': 0.0, 'embed_l1': 0.0, 'layer_l2': 0.0, 'layer_l1': 0.0, 'cross_l2': 0.0, 'cross_l1': 0.0, 'reg_kg': 0.0, 'learning_rate': 0.005, 'lr_rs': 1, 'lr_kg': 0.5, 'kg_training_interval': 5, 'max_grad_norm': 2, 'is_clip_norm': 0, 'dtype': 32, 'optimizer': 'adam', 'epochs': 50, 'batch_size': 1024, 'enable_BN': False, 'show_step': 1, 'save_model': False, 'save_epoch': 100, 'write_tfevents': False, 'train_num_ngs': 4, 'need_sample': True, 'embedding_dropout': 0.0, 'EARLY_STOP': 100, 'min_seq_length': 1, 'slots': 5, 'cell': 'SUM', 'model_type': 'lightgcn', 'embed_size': 32, 'n_layers': 3, 'decay': 0.0001, 'eval_epoch': 5, 'top_k': 10, 'metrics': ['recall', 'ndcg', 'precision', 'map'], 'MODEL_DIR': 'C:\\\\Users\\\\tanch\\\\Documents\\\\NTU\\\\NTU Year 4\\\\FYP - GNN\\\\code1\\\\models', 'study_type': ['original', 'AmpBPR1']}"
      ]
     },
     "execution_count": 36,
     "metadata": {},
     "output_type": "execute_result"
    }
   ],
   "source": [
    "hparams"
   ]
  }
 ],
 "metadata": {
  "kernelspec": {
   "display_name": "Python 3 (ipykernel)",
   "language": "python",
   "name": "python3"
  },
  "language_info": {
   "codemirror_mode": {
    "name": "ipython",
    "version": 3
   },
   "file_extension": ".py",
   "mimetype": "text/x-python",
   "name": "python",
   "nbconvert_exporter": "python",
   "pygments_lexer": "ipython3",
   "version": "3.9.12"
  }
 },
 "nbformat": 4,
 "nbformat_minor": 5
}
