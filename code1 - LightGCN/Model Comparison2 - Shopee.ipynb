{
 "cells": [
  {
   "cell_type": "markdown",
   "id": "91071334-f89f-42f3-94d3-5b04bb5e877d",
   "metadata": {},
   "source": [
    "# ABOUT:\n",
    "- In this notebook, I compare LightGCN, SAR and Popularity Recommenders on a Real-Life E-commerce Shopee user purchase data"
   ]
  },
  {
   "cell_type": "code",
   "execution_count": 2,
   "id": "5af0ab05",
   "metadata": {},
   "outputs": [],
   "source": [
    "from recommenders.models.sar import SAR\n",
    "from recommenders.datasets.python_splitters import python_stratified_split\n",
    "from recommenders.utils.constants import SEED as DEFAULT_SEED\n",
    "from recommenders.evaluation.python_evaluation import precision_at_k\n",
    "from recommenders.models.deeprec.DataModel.ImplicitCF import ImplicitCF\n",
    "from recommenders.models.deeprec.deeprec_utils import prepare_hparams\n",
    "from recommenders.models.deeprec.models.graphrec.lightgcn import LightGCN\n",
    "from recommenders.utils.timer import Timer\n",
    "\n",
    "import pandas as pd\n",
    "import os"
   ]
  },
  {
   "cell_type": "code",
   "execution_count": 3,
   "id": "1e23940f-2198-4339-9564-ecaff3e56b47",
   "metadata": {},
   "outputs": [],
   "source": [
    "TOP_K = 10\n",
    "MOVIELENS_DATA_SIZE = '100k'\n",
    "EPOCHS = 40\n",
    "BATCH_SIZE = 1024\n",
    "SEED = DEFAULT_SEED  \n",
    "COL_USER = \"userID\"   # \"userID\"\n",
    "COL_ITEM = \"itemID\"\n",
    "COL_RATING = \"rating\"\n",
    "COL_TIMESTAMP = \"timestamp\"\n",
    "MIN_INTERACTIONS = 2\n",
    "\n",
    "yaml_file = r\"C:\\Users\\tanch\\Documents\\NTU\\NTU Year 4\\FYP - GNN\\code1\\config\\lightgcn.yml\"\n",
    "# user_file = \"../../tests/resources/deeprec/lightgcn/user_embeddings.csv\"\n",
    "# item_file = \"../../tests/resources/deeprec/lightgcn/item_embeddings.csv\""
   ]
  },
  {
   "cell_type": "markdown",
   "id": "624ba682-6672-421c-ab20-dcfeb7f0b930",
   "metadata": {},
   "source": [
    "### read and process data"
   ]
  },
  {
   "cell_type": "code",
   "execution_count": 4,
   "id": "e937e5b6-3622-4de8-86c4-1e25e099c813",
   "metadata": {},
   "outputs": [],
   "source": [
    "directory = r\"C:\\Users\\tanch\\Documents\\NTU\\NTU Year 4\\FYP - GNN\\data\\shopee-20221117T041452Z-001\\shopee\"\n",
    "os.chdir(directory)"
   ]
  },
  {
   "cell_type": "code",
   "execution_count": 5,
   "id": "61f1d492-3122-44b5-8c3d-2d56e943e0cd",
   "metadata": {
    "tags": []
   },
   "outputs": [],
   "source": [
    "df = pd.DataFrame()\n",
    "usecols = ['Order ID', \"Ship Time\", \"Username (Buyer)\", \"Product Name\", \"Deal Price\", \"Quantity\", \"Voucher Code\", \"Username (Buyer)\", \"Zip Code\"]\n",
    "for file in os.listdir(directory):\n",
    "    if \"Order\" in file:\n",
    "        tmp = pd.read_excel(file, usecols=usecols)\n",
    "        df = pd.concat([df,tmp], axis = 0)\n",
    "df.drop_duplicates(inplace = True)\n",
    "df = df.reset_index(drop = True)"
   ]
  },
  {
   "cell_type": "code",
   "execution_count": 6,
   "id": "7016d726-fc73-424d-9c2d-459a815536dd",
   "metadata": {},
   "outputs": [],
   "source": [
    "def process(dataframe):\n",
    "    tmp = dataframe.groupby([\"Product Name\", \"Username (Buyer)\"]).count()\n",
    "    tmp = pd.DataFrame(df.groupby([\"Product Name\", \"Username (Buyer)\"]).count()).reset_index()\n",
    "    tmp = tmp[[\"Product Name\", \"Username (Buyer)\", \"Order ID\"]] \n",
    "    tmp.columns = [COL_ITEM, COL_USER, COL_RATING]\n",
    "    return tmp"
   ]
  },
  {
   "cell_type": "code",
   "execution_count": 7,
   "id": "2083a83e-57bb-4af6-9c06-3a0d427aaf2b",
   "metadata": {},
   "outputs": [],
   "source": [
    "shopee_df = process(df)"
   ]
  },
  {
   "cell_type": "code",
   "execution_count": 17,
   "id": "a6cfca6d-ddb2-4a2f-848a-5fcf2869b70a",
   "metadata": {},
   "outputs": [],
   "source": [
    "def clean(df, min_interactions, drop_cold_users = True, drop_cold_items = False):\n",
    "    output_df = df.copy()\n",
    "    \n",
    "    # cleaning\n",
    "    output_df = output_df.drop_duplicates(subset = [COL_USER, COL_ITEM])\n",
    "    output_df[COL_RATING] = output_df[COL_RATING].apply(lambda rating: 1 if rating is None else rating)\n",
    "    output_df[COL_RATING] = output_df[COL_RATING].astype(int)\n",
    "    \n",
    "    # find warm items and users\n",
    "    item_counts = output_df[COL_ITEM].value_counts()\n",
    "    warm_items = item_counts[item_counts>=min_interactions]\n",
    "    user_counts = output_df[COL_USER].value_counts()\n",
    "    warm_users = user_counts[user_counts>=min_interactions]\n",
    "    \n",
    "    # keep only warm items and users\n",
    "    if drop_cold_users:\n",
    "        output_df = output_df[output_df[COL_USER].isin(warm_users.index)]\n",
    "    if drop_cold_items:\n",
    "        output_df = output_df[output_df[COL_ITEM].isin(warm_items.index)]\n",
    "            \n",
    "    return output_df"
   ]
  },
  {
   "cell_type": "code",
   "execution_count": 22,
   "id": "fcd0d279-ea50-47d8-ac8a-996d166913b9",
   "metadata": {},
   "outputs": [],
   "source": [
    "shopee_df_reduced = clean(shopee_df, MIN_INTERACTIONS)"
   ]
  },
  {
   "cell_type": "code",
   "execution_count": null,
   "id": "fa8ed8cb-6b69-461f-855e-1deffb6aa802",
   "metadata": {},
   "outputs": [],
   "source": [
    "shopee_df_reduced"
   ]
  },
  {
   "cell_type": "code",
   "execution_count": 25,
   "id": "68747168-51b5-44c1-8f67-3790cb8d13f9",
   "metadata": {},
   "outputs": [
    {
     "name": "stdout",
     "output_type": "stream",
     "text": [
      "\n",
      "    Reduced Data:\n",
      "    Total Ratings: 1267\n",
      "    Unique Users: 543\n",
      "    Unique Items: 179\n",
      "\n",
      "    Original Data:\n",
      "    Total Ratings: 7044\n",
      "    Unique Users: 6320\n",
      "    Unique Items: 251\n",
      "    \n"
     ]
    }
   ],
   "source": [
    "print(\"\"\"\n",
    "    Reduced Data:\n",
    "    Total Ratings: {train_total}\n",
    "    Unique Users: {train_users}\n",
    "    Unique Items: {train_items}\n",
    "\n",
    "    Original Data:\n",
    "    Total Ratings: {test_total}\n",
    "    Unique Users: {test_users}\n",
    "    Unique Items: {test_items}\n",
    "    \"\"\".format(\n",
    "        train_total=len(shopee_df_reduced),\n",
    "        train_users=len(shopee_df_reduced[COL_USER].unique()),\n",
    "        train_items=len(shopee_df_reduced[COL_ITEM].unique()),\n",
    "        test_total=len(shopee_df),\n",
    "        test_users=len(shopee_df[COL_USER].unique()),\n",
    "        test_items=len(shopee_df[COL_ITEM].unique()),\n",
    "))"
   ]
  },
  {
   "cell_type": "markdown",
   "id": "8d3b3696-33e7-43c6-bbbb-62610b949b25",
   "metadata": {},
   "source": [
    "#### Train test split"
   ]
  },
  {
   "cell_type": "code",
   "execution_count": 26,
   "id": "0ad7117c-39c9-41a6-b282-56061dba8657",
   "metadata": {},
   "outputs": [],
   "source": [
    "train, test = python_stratified_split(shopee_df_reduced, ratio=0.8,\n",
    "                                      min_rating=1, filter_by='user', \n",
    "                                      col_user=COL_USER, col_item=COL_ITEM, \n",
    "                                      seed=SEED)"
   ]
  },
  {
   "cell_type": "code",
   "execution_count": 27,
   "id": "c4500731-f3c9-4d55-a142-c2750659a98a",
   "metadata": {},
   "outputs": [
    {
     "name": "stdout",
     "output_type": "stream",
     "text": [
      "\n",
      "Train:\n",
      "Total Ratings: 1146\n",
      "Unique Users: 543\n",
      "Unique Items: 172\n",
      "\n",
      "Test:\n",
      "Total Ratings: 121\n",
      "Unique Users: 121\n",
      "Unique Items: 66\n",
      "\n"
     ]
    }
   ],
   "source": [
    "print(\"\"\"\n",
    "Train:\n",
    "Total Ratings: {train_total}\n",
    "Unique Users: {train_users}\n",
    "Unique Items: {train_items}\n",
    "\n",
    "Test:\n",
    "Total Ratings: {test_total}\n",
    "Unique Users: {test_users}\n",
    "Unique Items: {test_items}\n",
    "\"\"\".format(\n",
    "    train_total=len(train),\n",
    "    train_users=len(train['userID'].unique()),\n",
    "    train_items=len(train['itemID'].unique()),\n",
    "    test_total=len(test),\n",
    "    test_users=len(test['userID'].unique()),\n",
    "    test_items=len(test['itemID'].unique()),\n",
    "))"
   ]
  },
  {
   "cell_type": "markdown",
   "id": "f6431c5a-df0d-413a-b346-cadf0811f546",
   "metadata": {},
   "source": [
    "## Train and Evaluate: SAR"
   ]
  },
  {
   "cell_type": "code",
   "execution_count": 53,
   "id": "e2b837d3-ef1b-4778-9356-d00d39f2d24d",
   "metadata": {},
   "outputs": [],
   "source": [
    "# Similarity types: [\"cooccurrence\" | \"cosine\" | \"inclusion index\" | \"jaccard\" | \"lift\" | \"mutual information\" | \"lexicographers mutual information\"]\n",
    "model_sar = SAR(\n",
    "    col_user=COL_USER,\n",
    "    col_item=COL_ITEM,\n",
    "    col_rating=COL_RATING,\n",
    "    col_timestamp=COL_TIMESTAMP,\n",
    "    similarity_type=\"cooccurrence\", \n",
    "    time_decay_coefficient=30, \n",
    "    timedecay_formula=False,\n",
    "    normalize=False\n",
    ")"
   ]
  },
  {
   "cell_type": "code",
   "execution_count": 54,
   "id": "e10e9b7c-abec-4eca-940c-9b750da51dba",
   "metadata": {},
   "outputs": [],
   "source": [
    "model_sar.fit(train)"
   ]
  },
  {
   "cell_type": "code",
   "execution_count": 55,
   "id": "0a166776-49ce-4917-b141-c38ecc2a25c0",
   "metadata": {},
   "outputs": [
    {
     "data": {
      "text/plain": [
       "0.02644628099173554"
      ]
     },
     "execution_count": 55,
     "metadata": {},
     "output_type": "execute_result"
    }
   ],
   "source": [
    "top_k = model_sar.recommend_k_items(test, top_k=TOP_K, remove_seen=False)\n",
    "eval_precision = precision_at_k(test, top_k, col_user='userID', col_item='itemID', col_rating='rating', k=TOP_K)\n",
    "eval_precision   "
   ]
  },
  {
   "cell_type": "markdown",
   "id": "d631b1c2-af96-488b-8ed8-968a988ab145",
   "metadata": {},
   "source": [
    "## Train and Evaluate: Popularity Recommender"
   ]
  },
  {
   "cell_type": "code",
   "execution_count": 35,
   "id": "b89fece0-5375-4c87-be47-92ce09183cc8",
   "metadata": {},
   "outputs": [],
   "source": [
    "def construct_popular_predictions_table(test, model, top_k):\n",
    "    user_ids = test.userID.unique()\n",
    "    popular_items = model.get_popularity_based_topk(top_k = top_k)\n",
    "    output = pd.DataFrame()\n",
    "    for user_id in user_ids:\n",
    "        popular_items[\"userID\"] = user_id\n",
    "        output = pd.concat([output, popular_items], axis = 0)\n",
    "    return output"
   ]
  },
  {
   "cell_type": "code",
   "execution_count": 36,
   "id": "5511b460-3427-4c95-be09-839851939b0f",
   "metadata": {},
   "outputs": [
    {
     "data": {
      "text/plain": [
       "0.02809917355371901"
      ]
     },
     "execution_count": 36,
     "metadata": {},
     "output_type": "execute_result"
    }
   ],
   "source": [
    "top_k = construct_popular_predictions_table(test = test, model = model_sar, top_k = TOP_K)\n",
    "eval_precision = precision_at_k(test, top_k, col_user=COL_USER, col_item=COL_ITEM, col_rating=COL_RATING, k=TOP_K)\n",
    "eval_precision  "
   ]
  },
  {
   "cell_type": "markdown",
   "id": "335d0dd3-069f-493e-8a2b-076ec5110af4",
   "metadata": {
    "tags": []
   },
   "source": [
    "## Train and Evaluate: LightGCN"
   ]
  },
  {
   "cell_type": "code",
   "execution_count": 56,
   "id": "3d3cce20-546d-4148-bc92-1f23b5730038",
   "metadata": {},
   "outputs": [
    {
     "name": "stderr",
     "output_type": "stream",
     "text": [
      "C:\\Users\\tanch\\anaconda3\\envs\\fyp1\\lib\\site-packages\\recommenders\\models\\deeprec\\DataModel\\ImplicitCF.py:73: FutureWarning: The frame.append method is deprecated and will be removed from pandas in a future version. Use pandas.concat instead.\n",
      "  df = train if test is None else train.append(test)\n"
     ]
    }
   ],
   "source": [
    "data = ImplicitCF(train = train, test=test, \n",
    "                  adj_dir=None, \n",
    "                  col_user=COL_USER, col_item=COL_ITEM, \n",
    "                  seed=SEED)"
   ]
  },
  {
   "cell_type": "code",
   "execution_count": 90,
   "id": "bd403815-1442-4db6-9362-ea94b90c3b5d",
   "metadata": {},
   "outputs": [],
   "source": [
    "loss_type = \"AmpBPR2\"\n",
    "loss_type = \"OriginalBPR\"\n",
    "loss_type = \"AmpBPR2\"\n",
    "\n",
    "loss_neg_weight = 1.3\n",
    "log_wandb = False"
   ]
  },
  {
   "cell_type": "code",
   "execution_count": 91,
   "id": "9beddfd7-52c7-4d5d-bdd1-5d5ec5ad51c5",
   "metadata": {},
   "outputs": [
    {
     "name": "stdout",
     "output_type": "stream",
     "text": [
      "Already create adjacency matrix.\n",
      "Already normalize adjacency matrix.\n",
      "Using xavier initialization.\n"
     ]
    }
   ],
   "source": [
    "hparams = prepare_hparams(yaml_file,\n",
    "                          n_layers=2,\n",
    "                          loss_type = loss_type, \n",
    "                          loss_neg_weight = loss_neg_weight, \n",
    "                          log_wandb = log_wandb,\n",
    "                          batch_size=BATCH_SIZE,\n",
    "                          epochs=70,\n",
    "                          learning_rate=0.005,\n",
    "                          eval_epoch=1,\n",
    "                          top_k=TOP_K,\n",
    "                          COL_USER = COL_USER,\n",
    "                          COL_ITEM = COL_ITEM,\n",
    "                          COL_RATING = COL_RATING\n",
    "                          )\n",
    "# initiate model\n",
    "model = LightGCN(hparams, data, seed=SEED)"
   ]
  },
  {
   "cell_type": "code",
   "execution_count": 92,
   "id": "d00c5676-5844-416c-9da4-dda18b7bc6b6",
   "metadata": {
    "scrolled": true
   },
   "outputs": [
    {
     "name": "stdout",
     "output_type": "stream",
     "text": [
      "Epoch 1 (train)0.2s + (eval)0.1s: train loss = 0.68425 = (mf)0.68422 + (embed)0.00004, precision = 0.01322\n",
      "Epoch 2 (train)0.0s + (eval)0.0s: train loss = 0.67903 = (mf)0.67899 + (embed)0.00004, precision = 0.01240\n",
      "Epoch 3 (train)0.0s + (eval)0.0s: train loss = 0.67332 = (mf)0.67328 + (embed)0.00004, precision = 0.01653\n",
      "Epoch 4 (train)0.0s + (eval)0.0s: train loss = 0.66535 = (mf)0.66530 + (embed)0.00005, precision = 0.01983\n",
      "Epoch 5 (train)0.0s + (eval)0.0s: train loss = 0.65758 = (mf)0.65752 + (embed)0.00005, precision = 0.01983\n",
      "Epoch 6 (train)0.0s + (eval)0.0s: train loss = 0.64669 = (mf)0.64663 + (embed)0.00006, precision = 0.02149\n",
      "Epoch 7 (train)0.0s + (eval)0.0s: train loss = 0.63397 = (mf)0.63391 + (embed)0.00006, precision = 0.02231\n",
      "Epoch 8 (train)0.0s + (eval)0.0s: train loss = 0.62194 = (mf)0.62187 + (embed)0.00007, precision = 0.02314\n",
      "Epoch 9 (train)0.0s + (eval)0.0s: train loss = 0.60526 = (mf)0.60518 + (embed)0.00008, precision = 0.02314\n",
      "Epoch 10 (train)0.0s + (eval)0.0s: train loss = 0.58886 = (mf)0.58877 + (embed)0.00009, precision = 0.02479\n",
      "Epoch 11 (train)0.0s + (eval)0.0s: train loss = 0.56934 = (mf)0.56924 + (embed)0.00010, precision = 0.02645\n",
      "Epoch 12 (train)0.0s + (eval)0.0s: train loss = 0.54680 = (mf)0.54669 + (embed)0.00011, precision = 0.02562\n",
      "Epoch 13 (train)0.0s + (eval)0.0s: train loss = 0.52806 = (mf)0.52795 + (embed)0.00012, precision = 0.02727\n",
      "Epoch 14 (train)0.0s + (eval)0.0s: train loss = 0.50018 = (mf)0.50005 + (embed)0.00013, precision = 0.02810\n",
      "Epoch 15 (train)0.0s + (eval)0.0s: train loss = 0.47821 = (mf)0.47807 + (embed)0.00014, precision = 0.02810\n",
      "Epoch 16 (train)0.0s + (eval)0.0s: train loss = 0.45622 = (mf)0.45607 + (embed)0.00015, precision = 0.02727\n",
      "Epoch 17 (train)0.0s + (eval)0.0s: train loss = 0.42887 = (mf)0.42870 + (embed)0.00017, precision = 0.02810\n",
      "Epoch 18 (train)0.0s + (eval)0.0s: train loss = 0.40804 = (mf)0.40785 + (embed)0.00018, precision = 0.02810\n",
      "Epoch 19 (train)0.0s + (eval)0.0s: train loss = 0.38163 = (mf)0.38143 + (embed)0.00020, precision = 0.02893\n",
      "Epoch 20 (train)0.0s + (eval)0.0s: train loss = 0.35874 = (mf)0.35852 + (embed)0.00022, precision = 0.02975\n",
      "Epoch 21 (train)0.0s + (eval)0.0s: train loss = 0.33114 = (mf)0.33090 + (embed)0.00024, precision = 0.02975\n",
      "Epoch 22 (train)0.0s + (eval)0.0s: train loss = 0.30897 = (mf)0.30872 + (embed)0.00025, precision = 0.03058\n",
      "Epoch 23 (train)0.0s + (eval)0.0s: train loss = 0.28944 = (mf)0.28917 + (embed)0.00027, precision = 0.03058\n",
      "Epoch 24 (train)0.0s + (eval)0.0s: train loss = 0.27000 = (mf)0.26971 + (embed)0.00029, precision = 0.03058\n",
      "Epoch 25 (train)0.0s + (eval)0.0s: train loss = 0.25378 = (mf)0.25346 + (embed)0.00031, precision = 0.03058\n",
      "Epoch 26 (train)0.0s + (eval)0.0s: train loss = 0.22917 = (mf)0.22883 + (embed)0.00033, precision = 0.03058\n",
      "Epoch 27 (train)0.0s + (eval)0.0s: train loss = 0.21860 = (mf)0.21824 + (embed)0.00035, precision = 0.03140\n",
      "Epoch 28 (train)0.0s + (eval)0.0s: train loss = 0.20177 = (mf)0.20140 + (embed)0.00037, precision = 0.03223\n",
      "Epoch 29 (train)0.0s + (eval)0.0s: train loss = 0.19490 = (mf)0.19451 + (embed)0.00039, precision = 0.03388\n",
      "Epoch 30 (train)0.0s + (eval)0.0s: train loss = 0.17135 = (mf)0.17094 + (embed)0.00041, precision = 0.03388\n",
      "Epoch 31 (train)0.0s + (eval)0.0s: train loss = 0.16441 = (mf)0.16398 + (embed)0.00043, precision = 0.03306\n",
      "Epoch 32 (train)0.0s + (eval)0.0s: train loss = 0.15577 = (mf)0.15532 + (embed)0.00045, precision = 0.03306\n",
      "Epoch 33 (train)0.0s + (eval)0.0s: train loss = 0.14165 = (mf)0.14118 + (embed)0.00047, precision = 0.03306\n",
      "Epoch 34 (train)0.0s + (eval)0.0s: train loss = 0.13269 = (mf)0.13220 + (embed)0.00049, precision = 0.03306\n",
      "Epoch 35 (train)0.0s + (eval)0.0s: train loss = 0.12810 = (mf)0.12759 + (embed)0.00051, precision = 0.03223\n",
      "Epoch 36 (train)0.0s + (eval)0.0s: train loss = 0.12782 = (mf)0.12730 + (embed)0.00053, precision = 0.03388\n",
      "Epoch 37 (train)0.0s + (eval)0.0s: train loss = 0.11491 = (mf)0.11437 + (embed)0.00054, precision = 0.03471\n",
      "Epoch 38 (train)0.0s + (eval)0.0s: train loss = 0.11316 = (mf)0.11260 + (embed)0.00056, precision = 0.03554\n",
      "Epoch 39 (train)0.0s + (eval)0.0s: train loss = 0.10460 = (mf)0.10403 + (embed)0.00058, precision = 0.03554\n",
      "Epoch 40 (train)0.0s + (eval)0.0s: train loss = 0.09710 = (mf)0.09650 + (embed)0.00059, precision = 0.03554\n",
      "Epoch 41 (train)0.0s + (eval)0.0s: train loss = 0.09149 = (mf)0.09088 + (embed)0.00061, precision = 0.03554\n",
      "Epoch 42 (train)0.0s + (eval)0.0s: train loss = 0.08636 = (mf)0.08574 + (embed)0.00062, precision = 0.03471\n",
      "Epoch 43 (train)0.0s + (eval)0.0s: train loss = 0.08539 = (mf)0.08475 + (embed)0.00064, precision = 0.03471\n",
      "Epoch 44 (train)0.0s + (eval)0.0s: train loss = 0.08026 = (mf)0.07961 + (embed)0.00066, precision = 0.03471\n",
      "Epoch 45 (train)0.0s + (eval)0.0s: train loss = 0.07998 = (mf)0.07930 + (embed)0.00067, precision = 0.03471\n",
      "Epoch 46 (train)0.0s + (eval)0.0s: train loss = 0.07375 = (mf)0.07307 + (embed)0.00068, precision = 0.03388\n",
      "Epoch 47 (train)0.0s + (eval)0.0s: train loss = 0.06756 = (mf)0.06685 + (embed)0.00070, precision = 0.03471\n",
      "Epoch 48 (train)0.0s + (eval)0.0s: train loss = 0.06364 = (mf)0.06293 + (embed)0.00071, precision = 0.03471\n",
      "Epoch 49 (train)0.0s + (eval)0.0s: train loss = 0.06821 = (mf)0.06749 + (embed)0.00072, precision = 0.03471\n",
      "Epoch 50 (train)0.0s + (eval)0.0s: train loss = 0.06192 = (mf)0.06118 + (embed)0.00073, precision = 0.03388\n",
      "Epoch 51 (train)0.0s + (eval)0.0s: train loss = 0.06766 = (mf)0.06692 + (embed)0.00074, precision = 0.03306\n",
      "Epoch 52 (train)0.0s + (eval)0.0s: train loss = 0.06299 = (mf)0.06223 + (embed)0.00076, precision = 0.03306\n",
      "Epoch 53 (train)0.0s + (eval)0.0s: train loss = 0.06257 = (mf)0.06179 + (embed)0.00077, precision = 0.03388\n",
      "Epoch 54 (train)0.0s + (eval)0.0s: train loss = 0.04999 = (mf)0.04921 + (embed)0.00078, precision = 0.03471\n",
      "Epoch 55 (train)0.0s + (eval)0.0s: train loss = 0.05663 = (mf)0.05583 + (embed)0.00079, precision = 0.03471\n",
      "Epoch 56 (train)0.0s + (eval)0.0s: train loss = 0.05502 = (mf)0.05421 + (embed)0.00081, precision = 0.03471\n",
      "Epoch 57 (train)0.0s + (eval)0.0s: train loss = 0.05023 = (mf)0.04942 + (embed)0.00081, precision = 0.03471\n",
      "Epoch 58 (train)0.0s + (eval)0.0s: train loss = 0.04898 = (mf)0.04816 + (embed)0.00082, precision = 0.03471\n",
      "Epoch 59 (train)0.0s + (eval)0.0s: train loss = 0.04961 = (mf)0.04878 + (embed)0.00083, precision = 0.03471\n",
      "Epoch 60 (train)0.0s + (eval)0.0s: train loss = 0.04986 = (mf)0.04902 + (embed)0.00084, precision = 0.03471\n",
      "Epoch 61 (train)0.0s + (eval)0.0s: train loss = 0.04364 = (mf)0.04279 + (embed)0.00085, precision = 0.03471\n",
      "Epoch 62 (train)0.0s + (eval)0.0s: train loss = 0.04435 = (mf)0.04348 + (embed)0.00087, precision = 0.03471\n",
      "Epoch 63 (train)0.0s + (eval)0.0s: train loss = 0.04286 = (mf)0.04199 + (embed)0.00087, precision = 0.03471\n",
      "Epoch 64 (train)0.0s + (eval)0.0s: train loss = 0.04347 = (mf)0.04259 + (embed)0.00088, precision = 0.03471\n",
      "Epoch 65 (train)0.0s + (eval)0.0s: train loss = 0.04717 = (mf)0.04627 + (embed)0.00089, precision = 0.03388\n",
      "Epoch 66 (train)0.0s + (eval)0.0s: train loss = 0.04120 = (mf)0.04030 + (embed)0.00090, precision = 0.03388\n",
      "Epoch 67 (train)0.0s + (eval)0.0s: train loss = 0.03843 = (mf)0.03752 + (embed)0.00091, precision = 0.03388\n",
      "Epoch 68 (train)0.0s + (eval)0.0s: train loss = 0.03893 = (mf)0.03801 + (embed)0.00091, precision = 0.03388\n",
      "Epoch 69 (train)0.0s + (eval)0.0s: train loss = 0.03763 = (mf)0.03671 + (embed)0.00092, precision = 0.03388\n",
      "Epoch 70 (train)0.0s + (eval)0.0s: train loss = 0.03673 = (mf)0.03581 + (embed)0.00092, precision = 0.03306\n"
     ]
    }
   ],
   "source": [
    "model.fit()"
   ]
  },
  {
   "cell_type": "markdown",
   "id": "271c93a9-0910-4783-ab76-7c148d31ed36",
   "metadata": {},
   "source": [
    "## Comparison\n",
    "- It is quite clear that when dataset is small, advanced recommenders like SAR and LightGCN cannot person\n",
    "- target audience has to be e-commerce owners that are sufficiently large"
   ]
  },
  {
   "cell_type": "code",
   "execution_count": 93,
   "id": "94d891aa-145b-4a57-b8ca-b83f865dbdd7",
   "metadata": {},
   "outputs": [],
   "source": [
    "import seaborn as sb"
   ]
  },
  {
   "cell_type": "code",
   "execution_count": 94,
   "id": "889126f7-af9f-4e0c-8932-9327b09f239b",
   "metadata": {},
   "outputs": [],
   "source": [
    "precison_tmp = {\n",
    "    \"LightGCN\":0.03471,\n",
    "    \"SAR\":0.026446,\n",
    "    \"Popularity\":0.0281\n",
    "}   "
   ]
  },
  {
   "cell_type": "code",
   "execution_count": 95,
   "id": "7d4482c1-763b-4124-ba91-5a42e574654f",
   "metadata": {},
   "outputs": [
    {
     "data": {
      "text/plain": [
       "[Text(0.5, 0, 'Precision@10')]"
      ]
     },
     "execution_count": 95,
     "metadata": {},
     "output_type": "execute_result"
    },
    {
     "data": {
      "image/png": "[encoded data removed]",
      "text/plain": [
       "<Figure size 640x480 with 1 Axes>"
      ]
     },
     "metadata": {},
     "output_type": "display_data"
    }
   ],
   "source": [
    "p = sb.barplot(x = list(precison_tmp.values()),y = list(precison_tmp.keys()), palette = \"Accent\")\n",
    "p.set(xlabel = \"Precision@10\")"
   ]
  }
 ],
 "metadata": {
  "kernelspec": {
   "display_name": "Python 3 (ipykernel)",
   "language": "python",
   "name": "python3"
  },
  "language_info": {
   "codemirror_mode": {
    "name": "ipython",
    "version": 3
   },
   "file_extension": ".py",
   "mimetype": "text/x-python",
   "name": "python",
   "nbconvert_exporter": "python",
   "pygments_lexer": "ipython3",
   "version": "3.9.12"
  }
 },
 "nbformat": 4,
 "nbformat_minor": 5
}
