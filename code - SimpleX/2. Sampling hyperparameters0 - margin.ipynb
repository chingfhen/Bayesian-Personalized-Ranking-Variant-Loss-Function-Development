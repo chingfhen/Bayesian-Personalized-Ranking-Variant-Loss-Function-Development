{
 "cells": [
  {
   "cell_type": "markdown",
   "id": "4acae11f",
   "metadata": {
    "tags": []
   },
   "source": [
    "# ABOUT:\n",
    "- this notebook **generates the commands to run hypothesis testing on the margin hyperparameter**\n",
    "- Background:\n",
    "    - margin is a hyperparameter that resides in the SimpleX CCL Loss function\n",
    "    - we want to test if this hyperparameter has any significant positive effect \n",
    "- Approach:\n",
    "    - we conduct a Paired/dependent T-test\n",
    "        - randomly sample 20 hyperparameter sets\n",
    "        - each set consists of 6 hyperparameters: 'embedding_size', 'margin', 'negative_weight', 'neg_seq_len', 'gamma', 'history_len'\n",
    "        - each paired sample consists of margin!=0 (a) and margin==0 (b)\n",
    "        - evaluate all sets using SimpleX on ml-100k dataset\n",
    "        - use a paired t-test at 5% significance\n",
    "        - let d=a-b"
   ]
  },
  {
   "cell_type": "code",
   "execution_count": 2,
   "id": "2dd3c759",
   "metadata": {},
   "outputs": [],
   "source": [
    "from numpy import arange\n",
    "from random import sample, seed\n",
    "hyperparameter_ranges = {\n",
    "    \"embedding_size\": range(10,64),\n",
    "    \"margin\": arange(0.1,1.1,0.1),\n",
    "    \"negative_weight\": range(10,100),\n",
    "    \"neg_seq_len\": range(10,100),\n",
    "    \"gamma\": arange(0,1.1,0.1),\n",
    "    \"history_len\": range(10,100)\n",
    "}\n",
    "\n",
    "def sample_hyperparameters(ranges):\n",
    "    hyperparameter = {}\n",
    "    for hp, r in ranges.items():\n",
    "        hyperparameter[hp] = round(sample(list(r),1)[0],3)\n",
    "    return hyperparameter\n",
    "def write_command(hyperparameters):\n",
    "    command = \"\"\n",
    "    for hp, value in hyperparameters.items():\n",
    "        command+= f\"--{hp} {value} \"\n",
    "    return command"
   ]
  },
  {
   "cell_type": "markdown",
   "id": "781929cf-6014-4bc2-941d-50c3423d9f3c",
   "metadata": {
    "tags": []
   },
   "source": [
    "### Commands\n",
    "- the following commands were run on the run_simplex.py script"
   ]
  },
  {
   "cell_type": "code",
   "execution_count": 4,
   "id": "8c3fec94",
   "metadata": {},
   "outputs": [
    {
     "name": "stdout",
     "output_type": "stream",
     "text": [
      "python run_simplex.py --dataset ml-100k --embedding_size 46 --margin 0.1 --negative_weight 64 --neg_seq_len 71 --gamma 0.9 --history_len 11  --aggregator mean --reg_weight 0.001 --require_pow true  \n",
      "python run_simplex.py --dataset ml-100k --embedding_size 46 --margin 0 --negative_weight 64 --neg_seq_len 71 --gamma 0.9 --history_len 11  --aggregator mean --reg_weight 0.001 --require_pow true  \n",
      "python run_simplex.py --dataset ml-100k --embedding_size 23 --margin 0.8 --negative_weight 72 --neg_seq_len 45 --gamma 1.0 --history_len 30  --aggregator mean --reg_weight 0.001 --require_pow true  \n",
      "python run_simplex.py --dataset ml-100k --embedding_size 23 --margin 0 --negative_weight 72 --neg_seq_len 45 --gamma 1.0 --history_len 30  --aggregator mean --reg_weight 0.001 --require_pow true  \n",
      "python run_simplex.py --dataset ml-100k --embedding_size 12 --margin 0.9 --negative_weight 72 --neg_seq_len 51 --gamma 0.1 --history_len 41  --aggregator mean --reg_weight 0.001 --require_pow true  \n",
      "python run_simplex.py --dataset ml-100k --embedding_size 12 --margin 0 --negative_weight 72 --neg_seq_len 51 --gamma 0.1 --history_len 41  --aggregator mean --reg_weight 0.001 --require_pow true  \n",
      "python run_simplex.py --dataset ml-100k --embedding_size 57 --margin 0.6 --negative_weight 15 --neg_seq_len 63 --gamma 0.2 --history_len 87  --aggregator mean --reg_weight 0.001 --require_pow true  \n",
      "python run_simplex.py --dataset ml-100k --embedding_size 57 --margin 0 --negative_weight 15 --neg_seq_len 63 --gamma 0.2 --history_len 87  --aggregator mean --reg_weight 0.001 --require_pow true  \n",
      "python run_simplex.py --dataset ml-100k --embedding_size 32 --margin 0.7 --negative_weight 63 --neg_seq_len 46 --gamma 1.0 --history_len 43  --aggregator mean --reg_weight 0.001 --require_pow true  \n",
      "python run_simplex.py --dataset ml-100k --embedding_size 32 --margin 0 --negative_weight 63 --neg_seq_len 46 --gamma 1.0 --history_len 43  --aggregator mean --reg_weight 0.001 --require_pow true  \n",
      "python run_simplex.py --dataset ml-100k --embedding_size 39 --margin 0.3 --negative_weight 97 --neg_seq_len 48 --gamma 1.0 --history_len 56  --aggregator mean --reg_weight 0.001 --require_pow true  \n",
      "python run_simplex.py --dataset ml-100k --embedding_size 39 --margin 0 --negative_weight 97 --neg_seq_len 48 --gamma 1.0 --history_len 56  --aggregator mean --reg_weight 0.001 --require_pow true  \n",
      "python run_simplex.py --dataset ml-100k --embedding_size 18 --margin 0.8 --negative_weight 40 --neg_seq_len 66 --gamma 0.9 --history_len 58  --aggregator mean --reg_weight 0.001 --require_pow true  \n",
      "python run_simplex.py --dataset ml-100k --embedding_size 18 --margin 0 --negative_weight 40 --neg_seq_len 66 --gamma 0.9 --history_len 58  --aggregator mean --reg_weight 0.001 --require_pow true  \n",
      "python run_simplex.py --dataset ml-100k --embedding_size 12 --margin 1.0 --negative_weight 10 --neg_seq_len 40 --gamma 0.2 --history_len 34  --aggregator mean --reg_weight 0.001 --require_pow true  \n",
      "python run_simplex.py --dataset ml-100k --embedding_size 12 --margin 0 --negative_weight 10 --neg_seq_len 40 --gamma 0.2 --history_len 34  --aggregator mean --reg_weight 0.001 --require_pow true  \n",
      "python run_simplex.py --dataset ml-100k --embedding_size 29 --margin 0.9 --negative_weight 56 --neg_seq_len 40 --gamma 0.5 --history_len 95  --aggregator mean --reg_weight 0.001 --require_pow true  \n",
      "python run_simplex.py --dataset ml-100k --embedding_size 29 --margin 0 --negative_weight 56 --neg_seq_len 40 --gamma 0.5 --history_len 95  --aggregator mean --reg_weight 0.001 --require_pow true  \n",
      "python run_simplex.py --dataset ml-100k --embedding_size 45 --margin 0.8 --negative_weight 65 --neg_seq_len 70 --gamma 0.1 --history_len 93  --aggregator mean --reg_weight 0.001 --require_pow true  \n",
      "python run_simplex.py --dataset ml-100k --embedding_size 45 --margin 0 --negative_weight 65 --neg_seq_len 70 --gamma 0.1 --history_len 93  --aggregator mean --reg_weight 0.001 --require_pow true  \n",
      "python run_simplex.py --dataset ml-100k --embedding_size 47 --margin 0.6 --negative_weight 74 --neg_seq_len 30 --gamma 0.3 --history_len 62  --aggregator mean --reg_weight 0.001 --require_pow true  \n",
      "python run_simplex.py --dataset ml-100k --embedding_size 47 --margin 0 --negative_weight 74 --neg_seq_len 30 --gamma 0.3 --history_len 62  --aggregator mean --reg_weight 0.001 --require_pow true  \n",
      "python run_simplex.py --dataset ml-100k --embedding_size 25 --margin 0.1 --negative_weight 14 --neg_seq_len 73 --gamma 0.4 --history_len 87  --aggregator mean --reg_weight 0.001 --require_pow true  \n",
      "python run_simplex.py --dataset ml-100k --embedding_size 25 --margin 0 --negative_weight 14 --neg_seq_len 73 --gamma 0.4 --history_len 87  --aggregator mean --reg_weight 0.001 --require_pow true  \n",
      "python run_simplex.py --dataset ml-100k --embedding_size 52 --margin 0.2 --negative_weight 78 --neg_seq_len 20 --gamma 0.2 --history_len 59  --aggregator mean --reg_weight 0.001 --require_pow true  \n",
      "python run_simplex.py --dataset ml-100k --embedding_size 52 --margin 0 --negative_weight 78 --neg_seq_len 20 --gamma 0.2 --history_len 59  --aggregator mean --reg_weight 0.001 --require_pow true  \n",
      "python run_simplex.py --dataset ml-100k --embedding_size 46 --margin 0.6 --negative_weight 86 --neg_seq_len 29 --gamma 0.1 --history_len 22  --aggregator mean --reg_weight 0.001 --require_pow true  \n",
      "python run_simplex.py --dataset ml-100k --embedding_size 46 --margin 0 --negative_weight 86 --neg_seq_len 29 --gamma 0.1 --history_len 22  --aggregator mean --reg_weight 0.001 --require_pow true  \n",
      "python run_simplex.py --dataset ml-100k --embedding_size 38 --margin 0.3 --negative_weight 34 --neg_seq_len 54 --gamma 0.6 --history_len 63  --aggregator mean --reg_weight 0.001 --require_pow true  \n",
      "python run_simplex.py --dataset ml-100k --embedding_size 38 --margin 0 --negative_weight 34 --neg_seq_len 54 --gamma 0.6 --history_len 63  --aggregator mean --reg_weight 0.001 --require_pow true  \n",
      "python run_simplex.py --dataset ml-100k --embedding_size 38 --margin 0.4 --negative_weight 97 --neg_seq_len 45 --gamma 0.2 --history_len 89  --aggregator mean --reg_weight 0.001 --require_pow true  \n",
      "python run_simplex.py --dataset ml-100k --embedding_size 38 --margin 0 --negative_weight 97 --neg_seq_len 45 --gamma 0.2 --history_len 89  --aggregator mean --reg_weight 0.001 --require_pow true  \n",
      "python run_simplex.py --dataset ml-100k --embedding_size 43 --margin 0.3 --negative_weight 25 --neg_seq_len 44 --gamma 0.7 --history_len 48  --aggregator mean --reg_weight 0.001 --require_pow true  \n",
      "python run_simplex.py --dataset ml-100k --embedding_size 43 --margin 0 --negative_weight 25 --neg_seq_len 44 --gamma 0.7 --history_len 48  --aggregator mean --reg_weight 0.001 --require_pow true  \n",
      "python run_simplex.py --dataset ml-100k --embedding_size 20 --margin 0.3 --negative_weight 32 --neg_seq_len 71 --gamma 0.5 --history_len 51  --aggregator mean --reg_weight 0.001 --require_pow true  \n",
      "python run_simplex.py --dataset ml-100k --embedding_size 20 --margin 0 --negative_weight 32 --neg_seq_len 71 --gamma 0.5 --history_len 51  --aggregator mean --reg_weight 0.001 --require_pow true  \n",
      "python run_simplex.py --dataset ml-100k --embedding_size 37 --margin 0.4 --negative_weight 10 --neg_seq_len 79 --gamma 0.0 --history_len 52  --aggregator mean --reg_weight 0.001 --require_pow true  \n",
      "python run_simplex.py --dataset ml-100k --embedding_size 37 --margin 0 --negative_weight 10 --neg_seq_len 79 --gamma 0.0 --history_len 52  --aggregator mean --reg_weight 0.001 --require_pow true  \n",
      "python run_simplex.py --dataset ml-100k --embedding_size 30 --margin 0.4 --negative_weight 20 --neg_seq_len 43 --gamma 0.7 --history_len 61  --aggregator mean --reg_weight 0.001 --require_pow true  \n",
      "python run_simplex.py --dataset ml-100k --embedding_size 30 --margin 0 --negative_weight 20 --neg_seq_len 43 --gamma 0.7 --history_len 61  --aggregator mean --reg_weight 0.001 --require_pow true  \n"
     ]
    }
   ],
   "source": [
    "n = 20\n",
    "seed(10)\n",
    "for i in range(n):\n",
    "    hyperparameter = sample_hyperparameters(hyperparameter_ranges)\n",
    "    hyperparameter_m0 = hyperparameter.copy()\n",
    "    hyperparameter_m0[\"margin\"] = 0\n",
    "    print(\"python run_simplex.py --dataset ml-100k\", write_command(hyperparameter), \"--aggregator mean --reg_weight 0.001 --require_pow true  \")\n",
    "    print(\"python run_simplex.py --dataset ml-100k\", write_command(hyperparameter_m0), \"--aggregator mean --reg_weight 0.001 --require_pow true  \")"
   ]
  }
 ],
 "metadata": {
  "kernelspec": {
   "display_name": "Python 3 (ipykernel)",
   "language": "python",
   "name": "python3"
  },
  "language_info": {
   "codemirror_mode": {
    "name": "ipython",
    "version": 3
   },
   "file_extension": ".py",
   "mimetype": "text/x-python",
   "name": "python",
   "nbconvert_exporter": "python",
   "pygments_lexer": "ipython3",
   "version": "3.9.12"
  }
 },
 "nbformat": 4,
 "nbformat_minor": 5
}
