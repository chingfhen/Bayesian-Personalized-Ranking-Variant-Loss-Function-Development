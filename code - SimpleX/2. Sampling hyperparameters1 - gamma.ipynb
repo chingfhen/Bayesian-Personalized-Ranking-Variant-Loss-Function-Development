{
 "cells": [
  {
   "cell_type": "markdown",
   "id": "4acae11f",
   "metadata": {},
   "source": [
    "# ABOUT:\n",
    "- this notebook **generates the commands to run hypothesis testing on the gamma hyperparameter**\n",
    "- background:\n",
    "    - we want to test if a hyperparameter has insignificant effect, so\n",
    "        - for each sample of hyperparameters train the model twice, one for gamma!=1 and another for gamma==1\n",
    "        - take the difference\n",
    "        - perform hypothesis testing"
   ]
  },
  {
   "cell_type": "code",
   "execution_count": 1,
   "id": "2dd3c759",
   "metadata": {},
   "outputs": [],
   "source": [
    "from numpy import arange\n",
    "from random import sample, seed\n",
    "hyperparameter_ranges = {\n",
    "    \"embedding_size\": range(10,64),\n",
    "    \"margin\": arange(0,1.1,0.1),\n",
    "    \"negative_weight\": range(10,100),\n",
    "    \"neg_seq_len\": range(10,100),\n",
    "    \"gamma\": arange(0,1,0.1),\n",
    "    \"history_len\": range(10,100)\n",
    "}\n",
    "\n",
    "def sample_hyperparameters(ranges):\n",
    "    hyperparameter = {}\n",
    "    for hp, r in ranges.items():\n",
    "        hyperparameter[hp] = round(sample(list(r),1)[0],3)\n",
    "    return hyperparameter\n",
    "def write_command(hyperparameters):\n",
    "    command = \"\"\n",
    "    for hp, value in hyperparameters.items():\n",
    "        command+= f\"--{hp} {value} \"\n",
    "    return command"
   ]
  },
  {
   "cell_type": "markdown",
   "id": "5afd86c2-65b5-4f74-bb01-0e54292e5849",
   "metadata": {
    "tags": []
   },
   "source": [
    "### Commands\n",
    "- the following commands were run on the run_simplex.py script"
   ]
  },
  {
   "cell_type": "code",
   "execution_count": 2,
   "id": "8c3fec94",
   "metadata": {
    "scrolled": true
   },
   "outputs": [
    {
     "name": "stdout",
     "output_type": "stream",
     "text": [
      "python run_simplex.py --dataset ml-100k --embedding_size 46 --margin 0.0 --negative_weight 64 --neg_seq_len 71 --gamma 0.9 --history_len 11  --aggregator mean --reg_weight 0.001 --require_pow true  \n",
      "python run_simplex.py --dataset ml-100k --embedding_size 46 --margin 0.0 --negative_weight 64 --neg_seq_len 71 --gamma 1.0 --history_len 11  --aggregator mean --reg_weight 0.001 --require_pow true  \n",
      "python run_simplex.py --dataset ml-100k --embedding_size 23 --margin 0.7 --negative_weight 72 --neg_seq_len 45 --gamma 0.2 --history_len 14  --aggregator mean --reg_weight 0.001 --require_pow true  \n",
      "python run_simplex.py --dataset ml-100k --embedding_size 23 --margin 0.7 --negative_weight 72 --neg_seq_len 45 --gamma 1.0 --history_len 14  --aggregator mean --reg_weight 0.001 --require_pow true  \n",
      "python run_simplex.py --dataset ml-100k --embedding_size 43 --margin 0.7 --negative_weight 51 --neg_seq_len 19 --gamma 0.3 --history_len 56  --aggregator mean --reg_weight 0.001 --require_pow true  \n",
      "python run_simplex.py --dataset ml-100k --embedding_size 43 --margin 0.7 --negative_weight 51 --neg_seq_len 19 --gamma 1.0 --history_len 56  --aggregator mean --reg_weight 0.001 --require_pow true  \n",
      "python run_simplex.py --dataset ml-100k --embedding_size 12 --margin 0.6 --negative_weight 27 --neg_seq_len 87 --gamma 0.5 --history_len 58  --aggregator mean --reg_weight 0.001 --require_pow true  \n",
      "python run_simplex.py --dataset ml-100k --embedding_size 12 --margin 0.6 --negative_weight 27 --neg_seq_len 87 --gamma 1.0 --history_len 58  --aggregator mean --reg_weight 0.001 --require_pow true  \n",
      "python run_simplex.py --dataset ml-100k --embedding_size 36 --margin 0.4 --negative_weight 96 --neg_seq_len 43 --gamma 0.7 --history_len 32  --aggregator mean --reg_weight 0.001 --require_pow true  \n",
      "python run_simplex.py --dataset ml-100k --embedding_size 36 --margin 0.4 --negative_weight 96 --neg_seq_len 43 --gamma 1.0 --history_len 32  --aggregator mean --reg_weight 0.001 --require_pow true  \n",
      "python run_simplex.py --dataset ml-100k --embedding_size 53 --margin 0.4 --negative_weight 94 --neg_seq_len 56 --gamma 0.2 --history_len 68  --aggregator mean --reg_weight 0.001 --require_pow true  \n",
      "python run_simplex.py --dataset ml-100k --embedding_size 53 --margin 0.4 --negative_weight 94 --neg_seq_len 56 --gamma 1.0 --history_len 68  --aggregator mean --reg_weight 0.001 --require_pow true  \n",
      "python run_simplex.py --dataset ml-100k --embedding_size 59 --margin 0.3 --negative_weight 66 --neg_seq_len 88 --gamma 0.6 --history_len 15  --aggregator mean --reg_weight 0.001 --require_pow true  \n",
      "python run_simplex.py --dataset ml-100k --embedding_size 59 --margin 0.3 --negative_weight 66 --neg_seq_len 88 --gamma 1.0 --history_len 15  --aggregator mean --reg_weight 0.001 --require_pow true  \n",
      "python run_simplex.py --dataset ml-100k --embedding_size 47 --margin 0.0 --negative_weight 40 --neg_seq_len 27 --gamma 0.3 --history_len 48  --aggregator mean --reg_weight 0.001 --require_pow true  \n",
      "python run_simplex.py --dataset ml-100k --embedding_size 47 --margin 0.0 --negative_weight 40 --neg_seq_len 27 --gamma 1.0 --history_len 48  --aggregator mean --reg_weight 0.001 --require_pow true  \n",
      "python run_simplex.py --dataset ml-100k --embedding_size 44 --margin 0.5 --negative_weight 40 --neg_seq_len 50 --gamma 0.8 --history_len 67  --aggregator mean --reg_weight 0.001 --require_pow true  \n",
      "python run_simplex.py --dataset ml-100k --embedding_size 44 --margin 0.5 --negative_weight 40 --neg_seq_len 50 --gamma 1.0 --history_len 67  --aggregator mean --reg_weight 0.001 --require_pow true  \n",
      "python run_simplex.py --dataset ml-100k --embedding_size 37 --margin 0.7 --negative_weight 18 --neg_seq_len 93 --gamma 0.9 --history_len 51  --aggregator mean --reg_weight 0.001 --require_pow true  \n",
      "python run_simplex.py --dataset ml-100k --embedding_size 37 --margin 0.7 --negative_weight 18 --neg_seq_len 93 --gamma 1.0 --history_len 51  --aggregator mean --reg_weight 0.001 --require_pow true  \n",
      "python run_simplex.py --dataset ml-100k --embedding_size 42 --margin 0.2 --negative_weight 38 --neg_seq_len 62 --gamma 0.3 --history_len 14  --aggregator mean --reg_weight 0.001 --require_pow true  \n",
      "python run_simplex.py --dataset ml-100k --embedding_size 42 --margin 0.2 --negative_weight 38 --neg_seq_len 62 --gamma 1.0 --history_len 14  --aggregator mean --reg_weight 0.001 --require_pow true  \n",
      "python run_simplex.py --dataset ml-100k --embedding_size 12 --margin 0.7 --negative_weight 48 --neg_seq_len 87 --gamma 0.1 --history_len 78  --aggregator mean --reg_weight 0.001 --require_pow true  \n",
      "python run_simplex.py --dataset ml-100k --embedding_size 12 --margin 0.7 --negative_weight 48 --neg_seq_len 87 --gamma 1.0 --history_len 78  --aggregator mean --reg_weight 0.001 --require_pow true  \n",
      "python run_simplex.py --dataset ml-100k --embedding_size 15 --margin 0.2 --negative_weight 59 --neg_seq_len 82 --gamma 0.5 --history_len 86  --aggregator mean --reg_weight 0.001 --require_pow true  \n",
      "python run_simplex.py --dataset ml-100k --embedding_size 15 --margin 0.2 --negative_weight 59 --neg_seq_len 82 --gamma 1.0 --history_len 86  --aggregator mean --reg_weight 0.001 --require_pow true  \n",
      "python run_simplex.py --dataset ml-100k --embedding_size 19 --margin 0.1 --negative_weight 22 --neg_seq_len 66 --gamma 0.2 --history_len 34  --aggregator mean --reg_weight 0.001 --require_pow true  \n",
      "python run_simplex.py --dataset ml-100k --embedding_size 19 --margin 0.1 --negative_weight 22 --neg_seq_len 66 --gamma 1.0 --history_len 34  --aggregator mean --reg_weight 0.001 --require_pow true  \n",
      "python run_simplex.py --dataset ml-100k --embedding_size 32 --margin 0.6 --negative_weight 63 --neg_seq_len 67 --gamma 0.3 --history_len 97  --aggregator mean --reg_weight 0.001 --require_pow true  \n",
      "python run_simplex.py --dataset ml-100k --embedding_size 32 --margin 0.6 --negative_weight 63 --neg_seq_len 67 --gamma 1.0 --history_len 97  --aggregator mean --reg_weight 0.001 --require_pow true  \n",
      "python run_simplex.py --dataset ml-100k --embedding_size 27 --margin 0.2 --negative_weight 89 --neg_seq_len 76 --gamma 0.2 --history_len 25  --aggregator mean --reg_weight 0.001 --require_pow true  \n",
      "python run_simplex.py --dataset ml-100k --embedding_size 27 --margin 0.2 --negative_weight 89 --neg_seq_len 76 --gamma 1.0 --history_len 25  --aggregator mean --reg_weight 0.001 --require_pow true  \n",
      "python run_simplex.py --dataset ml-100k --embedding_size 27 --margin 0.7 --negative_weight 48 --neg_seq_len 31 --gamma 0.2 --history_len 32  --aggregator mean --reg_weight 0.001 --require_pow true  \n",
      "python run_simplex.py --dataset ml-100k --embedding_size 27 --margin 0.7 --negative_weight 48 --neg_seq_len 31 --gamma 1.0 --history_len 32  --aggregator mean --reg_weight 0.001 --require_pow true  \n",
      "python run_simplex.py --dataset ml-100k --embedding_size 40 --margin 0.5 --negative_weight 51 --neg_seq_len 65 --gamma 0.3 --history_len 10  --aggregator mean --reg_weight 0.001 --require_pow true  \n",
      "python run_simplex.py --dataset ml-100k --embedding_size 40 --margin 0.5 --negative_weight 51 --neg_seq_len 65 --gamma 1.0 --history_len 10  --aggregator mean --reg_weight 0.001 --require_pow true  \n",
      "python run_simplex.py --dataset ml-100k --embedding_size 44 --margin 0.0 --negative_weight 52 --neg_seq_len 50 --gamma 0.3 --history_len 20  --aggregator mean --reg_weight 0.001 --require_pow true  \n",
      "python run_simplex.py --dataset ml-100k --embedding_size 44 --margin 0.0 --negative_weight 52 --neg_seq_len 50 --gamma 1.0 --history_len 20  --aggregator mean --reg_weight 0.001 --require_pow true  \n",
      "python run_simplex.py --dataset ml-100k --embedding_size 26 --margin 0.7 --negative_weight 61 --neg_seq_len 84 --gamma 0.2 --history_len 59  --aggregator mean --reg_weight 0.001 --require_pow true  \n",
      "python run_simplex.py --dataset ml-100k --embedding_size 26 --margin 0.7 --negative_weight 61 --neg_seq_len 84 --gamma 1.0 --history_len 59  --aggregator mean --reg_weight 0.001 --require_pow true  \n"
     ]
    }
   ],
   "source": [
    "n = 20\n",
    "seed(10)\n",
    "for i in range(n):\n",
    "    hyperparameter = sample_hyperparameters(hyperparameter_ranges)\n",
    "    hyperparameter_x = hyperparameter.copy()\n",
    "    hyperparameter_x[\"gamma\"] = 1.0\n",
    "    print(\"python run_simplex.py --dataset ml-100k\", write_command(hyperparameter), \"--aggregator mean --reg_weight 0.001 --require_pow true  \")\n",
    "    print(\"python run_simplex.py --dataset ml-100k\", write_command(hyperparameter_x), \"--aggregator mean --reg_weight 0.001 --require_pow true  \")"
   ]
  }
 ],
 "metadata": {
  "kernelspec": {
   "display_name": "Python 3 (ipykernel)",
   "language": "python",
   "name": "python3"
  },
  "language_info": {
   "codemirror_mode": {
    "name": "ipython",
    "version": 3
   },
   "file_extension": ".py",
   "mimetype": "text/x-python",
   "name": "python",
   "nbconvert_exporter": "python",
   "pygments_lexer": "ipython3",
   "version": "3.9.12"
  }
 },
 "nbformat": 4,
 "nbformat_minor": 5
}
