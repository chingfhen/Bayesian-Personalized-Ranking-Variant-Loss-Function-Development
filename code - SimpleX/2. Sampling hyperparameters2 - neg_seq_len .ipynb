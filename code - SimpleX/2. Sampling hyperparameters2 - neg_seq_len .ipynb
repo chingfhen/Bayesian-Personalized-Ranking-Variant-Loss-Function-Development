{
 "cells": [
  {
   "cell_type": "markdown",
   "id": "4acae11f",
   "metadata": {},
   "source": [
    "# ABOUT:\n",
    "- this notebook **generates the commands to run hypothesis testing on the neg_seq_len hyperparameter**\n",
    "- background:\n",
    "    - we want to test if a hyperparameter has insignificant effect, so\n",
    "        - for each sample of hyperparameters train the model twice, one for gamma!=1 and another for gamma==1\n",
    "        - take the difference\n",
    "        - perform hypothesis testing"
   ]
  },
  {
   "cell_type": "code",
   "execution_count": 5,
   "id": "2dd3c759",
   "metadata": {},
   "outputs": [],
   "source": [
    "from numpy import arange\n",
    "from random import sample, seed\n",
    "hyperparameter_ranges = {\n",
    "    \"embedding_size\": range(10,64),\n",
    "    \"margin\": arange(0,1.1,0.1),\n",
    "    \"negative_weight\": range(2,101),\n",
    "    \"neg_seq_len\": range(2,101),\n",
    "    \"gamma\": arange(0,1.1,0.1),\n",
    "    \"history_len\": range(10,100)\n",
    "}\n",
    "\n",
    "def sample_hyperparameters(ranges):\n",
    "    hyperparameter = {}\n",
    "    for hp, r in ranges.items():\n",
    "        hyperparameter[hp] = round(sample(list(r),1)[0],3)\n",
    "    return hyperparameter\n",
    "def write_command(hyperparameters):\n",
    "    command = \"\"\n",
    "    for hp, value in hyperparameters.items():\n",
    "        command+= f\"--{hp} {value} \"\n",
    "    return command"
   ]
  },
  {
   "cell_type": "markdown",
   "id": "f987e850-8924-44e0-b435-18a56809f32f",
   "metadata": {
    "tags": []
   },
   "source": [
    "### Commands\n",
    "- the following commands were run on the run_simplex.py script"
   ]
  },
  {
   "cell_type": "code",
   "execution_count": 9,
   "id": "8c3fec94",
   "metadata": {},
   "outputs": [
    {
     "name": "stdout",
     "output_type": "stream",
     "text": [
      "python run_simplex.py --dataset ml-100k --embedding_size 46 --margin 0.0 --negative_weight 63 --neg_seq_len 63 --gamma 0.9 --history_len 11  --aggregator mean --reg_weight 0.001 --require_pow true  \n",
      "python run_simplex.py --dataset ml-100k --embedding_size 46 --margin 0.0 --negative_weight 1 --neg_seq_len 1 --gamma 0.9 --history_len 11  --aggregator mean --reg_weight 0.001 --require_pow true  \n",
      "python run_simplex.py --dataset ml-100k --embedding_size 23 --margin 0.7 --negative_weight 37 --neg_seq_len 37 --gamma 1.0 --history_len 30  --aggregator mean --reg_weight 0.001 --require_pow true  \n",
      "python run_simplex.py --dataset ml-100k --embedding_size 23 --margin 0.7 --negative_weight 1 --neg_seq_len 1 --gamma 1.0 --history_len 30  --aggregator mean --reg_weight 0.001 --require_pow true  \n",
      "python run_simplex.py --dataset ml-100k --embedding_size 12 --margin 0.8 --negative_weight 43 --neg_seq_len 43 --gamma 0.1 --history_len 41  --aggregator mean --reg_weight 0.001 --require_pow true  \n",
      "python run_simplex.py --dataset ml-100k --embedding_size 12 --margin 0.8 --negative_weight 1 --neg_seq_len 1 --gamma 0.1 --history_len 41  --aggregator mean --reg_weight 0.001 --require_pow true  \n",
      "python run_simplex.py --dataset ml-100k --embedding_size 57 --margin 0.5 --negative_weight 55 --neg_seq_len 55 --gamma 0.2 --history_len 87  --aggregator mean --reg_weight 0.001 --require_pow true  \n",
      "python run_simplex.py --dataset ml-100k --embedding_size 57 --margin 0.5 --negative_weight 1 --neg_seq_len 1 --gamma 0.2 --history_len 87  --aggregator mean --reg_weight 0.001 --require_pow true  \n",
      "python run_simplex.py --dataset ml-100k --embedding_size 32 --margin 0.6 --negative_weight 38 --neg_seq_len 38 --gamma 1.0 --history_len 43  --aggregator mean --reg_weight 0.001 --require_pow true  \n",
      "python run_simplex.py --dataset ml-100k --embedding_size 32 --margin 0.6 --negative_weight 1 --neg_seq_len 1 --gamma 1.0 --history_len 43  --aggregator mean --reg_weight 0.001 --require_pow true  \n",
      "python run_simplex.py --dataset ml-100k --embedding_size 39 --margin 0.2 --negative_weight 40 --neg_seq_len 40 --gamma 1.0 --history_len 56  --aggregator mean --reg_weight 0.001 --require_pow true  \n",
      "python run_simplex.py --dataset ml-100k --embedding_size 39 --margin 0.2 --negative_weight 1 --neg_seq_len 1 --gamma 1.0 --history_len 56  --aggregator mean --reg_weight 0.001 --require_pow true  \n",
      "python run_simplex.py --dataset ml-100k --embedding_size 18 --margin 0.7 --negative_weight 32 --neg_seq_len 32 --gamma 0.7 --history_len 88  --aggregator mean --reg_weight 0.001 --require_pow true  \n",
      "python run_simplex.py --dataset ml-100k --embedding_size 18 --margin 0.7 --negative_weight 1 --neg_seq_len 1 --gamma 0.7 --history_len 88  --aggregator mean --reg_weight 0.001 --require_pow true  \n",
      "python run_simplex.py --dataset ml-100k --embedding_size 34 --margin 0.0 --negative_weight 2 --neg_seq_len 2 --gamma 0.3 --history_len 27  --aggregator mean --reg_weight 0.001 --require_pow true  \n",
      "python run_simplex.py --dataset ml-100k --embedding_size 34 --margin 0.0 --negative_weight 1 --neg_seq_len 1 --gamma 0.3 --history_len 27  --aggregator mean --reg_weight 0.001 --require_pow true  \n",
      "python run_simplex.py --dataset ml-100k --embedding_size 22 --margin 0.4 --negative_weight 48 --neg_seq_len 48 --gamma 0.3 --history_len 50  --aggregator mean --reg_weight 0.001 --require_pow true  \n",
      "python run_simplex.py --dataset ml-100k --embedding_size 22 --margin 0.4 --negative_weight 1 --neg_seq_len 1 --gamma 0.3 --history_len 50  --aggregator mean --reg_weight 0.001 --require_pow true  \n",
      "python run_simplex.py --dataset ml-100k --embedding_size 52 --margin 0.8 --negative_weight 57 --neg_seq_len 57 --gamma 0.7 --history_len 18  --aggregator mean --reg_weight 0.001 --require_pow true  \n",
      "python run_simplex.py --dataset ml-100k --embedding_size 52 --margin 0.8 --negative_weight 1 --neg_seq_len 1 --gamma 0.7 --history_len 18  --aggregator mean --reg_weight 0.001 --require_pow true  \n",
      "python run_simplex.py --dataset ml-100k --embedding_size 51 --margin 0.9 --negative_weight 66 --neg_seq_len 66 --gamma 0.2 --history_len 38  --aggregator mean --reg_weight 0.001 --require_pow true  \n",
      "python run_simplex.py --dataset ml-100k --embedding_size 51 --margin 0.9 --negative_weight 1 --neg_seq_len 1 --gamma 0.2 --history_len 38  --aggregator mean --reg_weight 0.001 --require_pow true  \n",
      "python run_simplex.py --dataset ml-100k --embedding_size 36 --margin 0.3 --negative_weight 6 --neg_seq_len 6 --gamma 0.7 --history_len 48  --aggregator mean --reg_weight 0.001 --require_pow true  \n",
      "python run_simplex.py --dataset ml-100k --embedding_size 36 --margin 0.3 --negative_weight 1 --neg_seq_len 1 --gamma 0.7 --history_len 48  --aggregator mean --reg_weight 0.001 --require_pow true  \n",
      "python run_simplex.py --dataset ml-100k --embedding_size 62 --margin 0.9 --negative_weight 11 --neg_seq_len 11 --gamma 0.8 --history_len 20  --aggregator mean --reg_weight 0.001 --require_pow true  \n",
      "python run_simplex.py --dataset ml-100k --embedding_size 62 --margin 0.9 --negative_weight 1 --neg_seq_len 1 --gamma 0.8 --history_len 20  --aggregator mean --reg_weight 0.001 --require_pow true  \n",
      "python run_simplex.py --dataset ml-100k --embedding_size 19 --margin 0.6 --negative_weight 49 --neg_seq_len 49 --gamma 0.9 --history_len 29  --aggregator mean --reg_weight 0.001 --require_pow true  \n",
      "python run_simplex.py --dataset ml-100k --embedding_size 19 --margin 0.6 --negative_weight 1 --neg_seq_len 1 --gamma 0.9 --history_len 29  --aggregator mean --reg_weight 0.001 --require_pow true  \n",
      "python run_simplex.py --dataset ml-100k --embedding_size 17 --margin 0.1 --negative_weight 23 --neg_seq_len 23 --gamma 0.3 --history_len 54  --aggregator mean --reg_weight 0.001 --require_pow true  \n",
      "python run_simplex.py --dataset ml-100k --embedding_size 17 --margin 0.1 --negative_weight 1 --neg_seq_len 1 --gamma 0.3 --history_len 54  --aggregator mean --reg_weight 0.001 --require_pow true  \n",
      "python run_simplex.py --dataset ml-100k --embedding_size 37 --margin 0.6 --negative_weight 33 --neg_seq_len 33 --gamma 1.0 --history_len 45  --aggregator mean --reg_weight 0.001 --require_pow true  \n",
      "python run_simplex.py --dataset ml-100k --embedding_size 37 --margin 0.6 --negative_weight 1 --neg_seq_len 1 --gamma 1.0 --history_len 45  --aggregator mean --reg_weight 0.001 --require_pow true  \n",
      "python run_simplex.py --dataset ml-100k --embedding_size 19 --margin 0.9 --negative_weight 24 --neg_seq_len 24 --gamma 0.1 --history_len 44  --aggregator mean --reg_weight 0.001 --require_pow true  \n",
      "python run_simplex.py --dataset ml-100k --embedding_size 19 --margin 0.9 --negative_weight 1 --neg_seq_len 1 --gamma 0.1 --history_len 44  --aggregator mean --reg_weight 0.001 --require_pow true  \n",
      "python run_simplex.py --dataset ml-100k --embedding_size 39 --margin 0.4 --negative_weight 86 --neg_seq_len 86 --gamma 1.0 --history_len 32  --aggregator mean --reg_weight 0.001 --require_pow true  \n",
      "python run_simplex.py --dataset ml-100k --embedding_size 39 --margin 0.4 --negative_weight 1 --neg_seq_len 1 --gamma 1.0 --history_len 32  --aggregator mean --reg_weight 0.001 --require_pow true  \n",
      "python run_simplex.py --dataset ml-100k --embedding_size 59 --margin 0.2 --negative_weight 100 --neg_seq_len 100 --gamma 0.5 --history_len 51  --aggregator mean --reg_weight 0.001 --require_pow true  \n",
      "python run_simplex.py --dataset ml-100k --embedding_size 59 --margin 0.2 --negative_weight 1 --neg_seq_len 1 --gamma 0.5 --history_len 51  --aggregator mean --reg_weight 0.001 --require_pow true  \n",
      "python run_simplex.py --dataset ml-100k --embedding_size 37 --margin 0.3 --negative_weight 71 --neg_seq_len 71 --gamma 0.0 --history_len 52  --aggregator mean --reg_weight 0.001 --require_pow true  \n",
      "python run_simplex.py --dataset ml-100k --embedding_size 37 --margin 0.3 --negative_weight 1 --neg_seq_len 1 --gamma 0.0 --history_len 52  --aggregator mean --reg_weight 0.001 --require_pow true  \n"
     ]
    }
   ],
   "source": [
    "n = 20\n",
    "seed(10)\n",
    "for i in range(n):\n",
    "    hyperparameter = sample_hyperparameters(hyperparameter_ranges)\n",
    "    hyperparameter[\"negative_weight\"] = hyperparameter[\"neg_seq_len\"]\n",
    "    hyperparameter_x = hyperparameter.copy()\n",
    "    hyperparameter_x[\"negative_weight\"] = 1\n",
    "    hyperparameter_x[\"neg_seq_len\"] = 1\n",
    "    print(\"python run_simplex.py --dataset ml-100k\", write_command(hyperparameter), \"--aggregator mean --reg_weight 0.001 --require_pow true  \")\n",
    "    print(\"python run_simplex.py --dataset ml-100k\", write_command(hyperparameter_x), \"--aggregator mean --reg_weight 0.001 --require_pow true  \")"
   ]
  },
  {
   "cell_type": "code",
   "execution_count": null,
   "id": "4fe13641",
   "metadata": {},
   "outputs": [],
   "source": []
  },
  {
   "cell_type": "code",
   "execution_count": null,
   "id": "35575ed3",
   "metadata": {},
   "outputs": [],
   "source": []
  }
 ],
 "metadata": {
  "kernelspec": {
   "display_name": "Python 3 (ipykernel)",
   "language": "python",
   "name": "python3"
  },
  "language_info": {
   "codemirror_mode": {
    "name": "ipython",
    "version": 3
   },
   "file_extension": ".py",
   "mimetype": "text/x-python",
   "name": "python",
   "nbconvert_exporter": "python",
   "pygments_lexer": "ipython3",
   "version": "3.9.12"
  }
 },
 "nbformat": 4,
 "nbformat_minor": 5
}
